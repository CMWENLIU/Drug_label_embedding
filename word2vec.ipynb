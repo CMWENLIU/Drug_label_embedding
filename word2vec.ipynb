{
  "nbformat": 4,
  "nbformat_minor": 0,
  "metadata": {
    "colab": {
      "name": "Copy of word2vec.ipynb",
      "version": "0.3.2",
      "provenance": [],
      "toc_visible": true,
      "include_colab_link": true
    },
    "language_info": {
      "codemirror_mode": {
        "name": "ipython",
        "version": 3
      },
      "file_extension": ".py",
      "mimetype": "text/x-python",
      "name": "python",
      "nbconvert_exporter": "python",
      "pygments_lexer": "ipython3",
      "version": "3.7.0"
    },
    "kernelspec": {
      "display_name": "Python 3",
      "language": "python",
      "name": "python3"
    }
  },
  "cells": [
    {
      "cell_type": "markdown",
      "metadata": {
        "id": "view-in-github",
        "colab_type": "text"
      },
      "source": [
        "<a href=\"https://colab.research.google.com/github/CMWENLIU/Drug_label_embedding/blob/master/word2vec.ipynb\" target=\"_parent\"><img src=\"https://colab.research.google.com/assets/colab-badge.svg\" alt=\"Open In Colab\"/></a>"
      ]
    },
    {
      "cell_type": "markdown",
      "metadata": {
        "id": "XruJa-v0UxZZ",
        "colab_type": "text"
      },
      "source": [
        "# word2vec "
      ]
    },
    {
      "cell_type": "markdown",
      "metadata": {
        "id": "qSA0rPNCUxZi",
        "colab_type": "text"
      },
      "source": [
        "This notebook is equivalent to `demo-word.sh`, `demo-analogy.sh`, `demo-phrases.sh` and `demo-classes.sh` from Google."
      ]
    },
    {
      "cell_type": "code",
      "metadata": {
        "id": "mNh16A1iU55F",
        "colab_type": "code",
        "outputId": "5c32fce4-dbb7-4e7b-e4f9-8d7d15899e5a",
        "colab": {
          "base_uri": "https://localhost:8080/",
          "height": 274
        }
      },
      "source": [
        "!pip install word2vec"
      ],
      "execution_count": 0,
      "outputs": [
        {
          "output_type": "stream",
          "text": [
            "Collecting word2vec\n",
            "  Using cached https://files.pythonhosted.org/packages/ce/51/5e2782b204015c8aef0ac830297c2f2735143ec90f592b9b3b909bb89757/word2vec-0.10.2.tar.gz\n",
            "Requirement already satisfied: six in /usr/local/lib/python3.6/dist-packages (from word2vec) (1.12.0)\n",
            "Requirement already satisfied: cython in /usr/local/lib/python3.6/dist-packages (from word2vec) (0.29.10)\n",
            "Requirement already satisfied: numpy>=1.9.2 in /usr/local/lib/python3.6/dist-packages (from word2vec) (1.16.4)\n",
            "Requirement already satisfied: scipy in /usr/local/lib/python3.6/dist-packages (from word2vec) (1.3.0)\n",
            "Requirement already satisfied: scikit-learn in /usr/local/lib/python3.6/dist-packages (from word2vec) (0.21.2)\n",
            "Requirement already satisfied: joblib>=0.11 in /usr/local/lib/python3.6/dist-packages (from scikit-learn->word2vec) (0.13.2)\n",
            "Building wheels for collected packages: word2vec\n",
            "  Building wheel for word2vec (setup.py) ... \u001b[?25l\u001b[?25hdone\n",
            "  Stored in directory: /root/.cache/pip/wheels/ef/9f/06/aec42532c9c37e05f936d4d586b15cfdfc9f2ffb62bd7fed1c\n",
            "Successfully built word2vec\n",
            "Installing collected packages: word2vec\n",
            "Successfully installed word2vec-0.10.2\n"
          ],
          "name": "stdout"
        }
      ]
    },
    {
      "cell_type": "code",
      "metadata": {
        "id": "2TRh6IWpUxZm",
        "colab_type": "code",
        "colab": {}
      },
      "source": [
        "%load_ext autoreload\n",
        "%autoreload 2"
      ],
      "execution_count": 0,
      "outputs": []
    },
    {
      "cell_type": "markdown",
      "metadata": {
        "id": "gR8T41r6UxZy",
        "colab_type": "text"
      },
      "source": [
        "## Training"
      ]
    },
    {
      "cell_type": "markdown",
      "metadata": {
        "id": "PHvEnMLaUxZ1",
        "colab_type": "text"
      },
      "source": [
        "Download some data, for example: [http://mattmahoney.net/dc/text8.zip](http://mattmahoney.net/dc/text8.zip)"
      ]
    },
    {
      "cell_type": "code",
      "metadata": {
        "id": "7gE8QBSwUxZ4",
        "colab_type": "code",
        "outputId": "1715c63e-c11e-43f7-940e-0a56a681b30e",
        "colab": {
          "base_uri": "https://localhost:8080/",
          "height": 74
        }
      },
      "source": [
        "import word2vec"
      ],
      "execution_count": 0,
      "outputs": [
        {
          "output_type": "stream",
          "text": [
            "/usr/local/lib/python3.6/dist-packages/sklearn/externals/joblib/__init__.py:15: DeprecationWarning: sklearn.externals.joblib is deprecated in 0.21 and will be removed in 0.23. Please import this functionality directly from joblib, which can be installed with: pip install joblib. If this warning is raised when loading pickled models, you may need to re-serialize those models with scikit-learn 0.21+.\n",
            "  warnings.warn(msg, category=DeprecationWarning)\n"
          ],
          "name": "stderr"
        }
      ]
    },
    {
      "cell_type": "markdown",
      "metadata": {
        "id": "gnmTYA7qUxaB",
        "colab_type": "text"
      },
      "source": [
        "Run `word2phrase` to group up similar words \"Los Angeles\" to \"Los_Angeles\""
      ]
    },
    {
      "cell_type": "code",
      "metadata": {
        "id": "Wj9FKba3UxaD",
        "colab_type": "code",
        "outputId": "1ecbff03-9e67-4c2a-ec7a-2f04bf42a555",
        "colab": {
          "base_uri": "https://localhost:8080/",
          "height": 90
        }
      },
      "source": [
        "word2vec.word2phrase('text8', 'text8-phrases', verbose=True)"
      ],
      "execution_count": 0,
      "outputs": [
        {
          "output_type": "stream",
          "text": [
            "Starting training using file text8\n",
            "\n",
            "Vocab size (unigrams + bigrams): 2419827\n",
            "Words in train file: 17005206\n"
          ],
          "name": "stdout"
        }
      ]
    },
    {
      "cell_type": "markdown",
      "metadata": {
        "id": "CkxtvKdSUxaO",
        "colab_type": "text"
      },
      "source": [
        "This created a `text8-phrases` file that we can use as a better input for `word2vec`.\n",
        "Note that you could easily skip this previous step and use the text data as input for `word2vec` directly.\n",
        "\n",
        "Now actually train the word2vec model."
      ]
    },
    {
      "cell_type": "code",
      "metadata": {
        "id": "iT-FKPqsUxaS",
        "colab_type": "code",
        "outputId": "5d0a3e60-f5fa-460f-8adb-4f91b582f587",
        "colab": {
          "base_uri": "https://localhost:8080/",
          "height": 90
        }
      },
      "source": [
        "word2vec.word2vec('text8-phrases', 'text8.bin', size=100, verbose=True)"
      ],
      "execution_count": 0,
      "outputs": [
        {
          "output_type": "stream",
          "text": [
            "Starting training using file text8-phrases\n",
            "Vocab size: 98331\n",
            "Words in train file: 15857306\n",
            "Alpha: 0.000002  Progress: 100.03%  Words/thread/sec: 200.37k  "
          ],
          "name": "stdout"
        }
      ]
    },
    {
      "cell_type": "markdown",
      "metadata": {
        "id": "QBHJPXg7Uxac",
        "colab_type": "text"
      },
      "source": [
        "That created a `text8.bin` file containing the word vectors in a binary format."
      ]
    },
    {
      "cell_type": "markdown",
      "metadata": {
        "id": "zgUua8SyUxak",
        "colab_type": "text"
      },
      "source": [
        "Now we generate the clusters of the vectors based on the trained model."
      ]
    },
    {
      "cell_type": "code",
      "metadata": {
        "id": "FbB5b89KUxal",
        "colab_type": "code",
        "outputId": "1fc48bb2-4700-43db-9821-0926998eeba7",
        "colab": {
          "base_uri": "https://localhost:8080/",
          "height": 90
        }
      },
      "source": [
        "word2vec.word2clusters('text8', 'text8-clusters.txt', 100, verbose=True)"
      ],
      "execution_count": 0,
      "outputs": [
        {
          "output_type": "stream",
          "text": [
            "Starting training using file text8\n",
            "Vocab size: 71291\n",
            "Words in train file: 16718843\n",
            "Alpha: 0.000002  Progress: 100.03%  Words/thread/sec: 201.42k  "
          ],
          "name": "stdout"
        }
      ]
    },
    {
      "cell_type": "markdown",
      "metadata": {
        "id": "FFHfF217Uxav",
        "colab_type": "text"
      },
      "source": [
        "That created a `text8-clusters.txt` with the cluster for every word in the vocabulary"
      ]
    },
    {
      "cell_type": "markdown",
      "metadata": {
        "id": "ale1L-3HUxay",
        "colab_type": "text"
      },
      "source": [
        "## Predictions"
      ]
    },
    {
      "cell_type": "code",
      "metadata": {
        "id": "OqCzILCPUxa1",
        "colab_type": "code",
        "outputId": "325ecf5f-dd75-44e3-b24d-763602673623",
        "colab": {
          "base_uri": "https://localhost:8080/",
          "height": 54
        }
      },
      "source": [
        "%load_ext autoreload\n",
        "%autoreload 2"
      ],
      "execution_count": 0,
      "outputs": [
        {
          "output_type": "stream",
          "text": [
            "The autoreload extension is already loaded. To reload it, use:\n",
            "  %reload_ext autoreload\n"
          ],
          "name": "stdout"
        }
      ]
    },
    {
      "cell_type": "code",
      "metadata": {
        "id": "rdplanQeUxbC",
        "colab_type": "code",
        "colab": {}
      },
      "source": [
        "import word2vec"
      ],
      "execution_count": 0,
      "outputs": []
    },
    {
      "cell_type": "markdown",
      "metadata": {
        "id": "26rrLjywUxbK",
        "colab_type": "text"
      },
      "source": [
        "Import the `word2vec` binary file created above"
      ]
    },
    {
      "cell_type": "code",
      "metadata": {
        "id": "vrOA8Ze4UxbM",
        "colab_type": "code",
        "colab": {}
      },
      "source": [
        "model = word2vec.load('text8.bin')"
      ],
      "execution_count": 0,
      "outputs": []
    },
    {
      "cell_type": "markdown",
      "metadata": {
        "id": "ZCf_aIGuUxbS",
        "colab_type": "text"
      },
      "source": [
        "We can take a look at the vocabulary as a numpy array"
      ]
    },
    {
      "cell_type": "code",
      "metadata": {
        "id": "8ntpHpd2UxbU",
        "colab_type": "code",
        "outputId": "c4776e7f-30fa-4790-ee0b-994486339b2c",
        "colab": {
          "base_uri": "https://localhost:8080/",
          "height": 54
        }
      },
      "source": [
        "model.vocab"
      ],
      "execution_count": 0,
      "outputs": [
        {
          "output_type": "execute_result",
          "data": {
            "text/plain": [
              "array(['</s>', 'the', 'of', ..., 'denishawn', 'tamiris', 'dolophine'],\n",
              "      dtype='<U78')"
            ]
          },
          "metadata": {
            "tags": []
          },
          "execution_count": 11
        }
      ]
    },
    {
      "cell_type": "markdown",
      "metadata": {
        "id": "jGn_zaX3Uxbe",
        "colab_type": "text"
      },
      "source": [
        "Or take a look at the whole matrix"
      ]
    },
    {
      "cell_type": "code",
      "metadata": {
        "id": "sfj-LfgLUxbh",
        "colab_type": "code",
        "outputId": "0ff12c17-abf1-433f-8183-3e4545cb8472",
        "colab": {
          "base_uri": "https://localhost:8080/",
          "height": 35
        }
      },
      "source": [
        "model.vectors.shape"
      ],
      "execution_count": 0,
      "outputs": [
        {
          "output_type": "execute_result",
          "data": {
            "text/plain": [
              "(98331, 100)"
            ]
          },
          "metadata": {
            "tags": []
          },
          "execution_count": 12
        }
      ]
    },
    {
      "cell_type": "code",
      "metadata": {
        "id": "sLjO7Hu6Uxbq",
        "colab_type": "code",
        "outputId": "cdf3f66e-3368-4c9c-c3ce-f6e7b1ee5877",
        "colab": {
          "base_uri": "https://localhost:8080/",
          "height": 256
        }
      },
      "source": [
        "model.vectors"
      ],
      "execution_count": 0,
      "outputs": [
        {
          "output_type": "execute_result",
          "data": {
            "text/plain": [
              "array([[ 0.14333282,  0.15825513, -0.13715845, ...,  0.05456942,\n",
              "         0.10955409,  0.00693387],\n",
              "       [ 0.16697241,  0.00419569,  0.03345228, ..., -0.08384706,\n",
              "         0.02464598,  0.04118611],\n",
              "       [ 0.20209818,  0.0518965 ,  0.19446139, ..., -0.08062559,\n",
              "         0.0891011 ,  0.14994313],\n",
              "       ...,\n",
              "       [-0.16343404,  0.07923861, -0.07191788, ...,  0.08626001,\n",
              "        -0.32177019,  0.03699231],\n",
              "       [-0.0362827 , -0.04966592, -0.02323416, ...,  0.16307202,\n",
              "        -0.26759657, -0.06015199],\n",
              "       [ 0.0251137 , -0.01108364,  0.13510559, ...,  0.11882564,\n",
              "        -0.06248424,  0.02373932]])"
            ]
          },
          "metadata": {
            "tags": []
          },
          "execution_count": 13
        }
      ]
    },
    {
      "cell_type": "markdown",
      "metadata": {
        "id": "n1lB5h41Uxb0",
        "colab_type": "text"
      },
      "source": [
        "We can retreive the vector of individual words"
      ]
    },
    {
      "cell_type": "code",
      "metadata": {
        "id": "E4TgCWyJUxb2",
        "colab_type": "code",
        "outputId": "b929b80b-02e4-4900-d58e-c360df2c08f5",
        "colab": {
          "base_uri": "https://localhost:8080/",
          "height": 35
        }
      },
      "source": [
        "model['dg'].shape"
      ],
      "execution_count": 0,
      "outputs": [
        {
          "output_type": "execute_result",
          "data": {
            "text/plain": [
              "(100,)"
            ]
          },
          "metadata": {
            "tags": []
          },
          "execution_count": 15
        }
      ]
    },
    {
      "cell_type": "code",
      "metadata": {
        "id": "KTBQGRaUUxb9",
        "colab_type": "code",
        "outputId": "873ccab1-8f46-40bd-8216-a839807504ac",
        "colab": {
          "base_uri": "https://localhost:8080/",
          "height": 54
        }
      },
      "source": [
        "model['dog'][:10]"
      ],
      "execution_count": 0,
      "outputs": [
        {
          "output_type": "execute_result",
          "data": {
            "text/plain": [
              "array([-0.05243927, -0.02918311,  0.01063815,  0.09861034,  0.01886699,\n",
              "       -0.02386677,  0.01734321,  0.16603038,  0.09383278,  0.05912584])"
            ]
          },
          "metadata": {
            "tags": []
          },
          "execution_count": 16
        }
      ]
    },
    {
      "cell_type": "markdown",
      "metadata": {
        "id": "40aq2wYaUxcK",
        "colab_type": "text"
      },
      "source": [
        "We can calculate the distance between two or more (all combinations) words."
      ]
    },
    {
      "cell_type": "code",
      "metadata": {
        "id": "ci6N46ojUxcV",
        "colab_type": "code",
        "outputId": "1a1d574e-b8b8-4430-daf9-73e390488fdd",
        "colab": {
          "base_uri": "https://localhost:8080/",
          "height": 293
        }
      },
      "source": [
        "model.distance(\"dog\", \"cat\", \"fish\", \"us\", \"puppy\", \"fish\")"
      ],
      "execution_count": 0,
      "outputs": [
        {
          "output_type": "execute_result",
          "data": {
            "text/plain": [
              "[('dog', 'cat', 0.8651788554338464),\n",
              " ('dog', 'fish', 0.6026456066703929),\n",
              " ('dog', 'us', 0.04316332385533227),\n",
              " ('dog', 'puppy', 0.6040419769629664),\n",
              " ('dog', 'fish', 0.6026456066703929),\n",
              " ('cat', 'fish', 0.649937052867408),\n",
              " ('cat', 'us', -0.08818993474386388),\n",
              " ('cat', 'puppy', 0.6118911176147784),\n",
              " ('cat', 'fish', 0.649937052867408),\n",
              " ('fish', 'us', 0.06723651128426716),\n",
              " ('fish', 'puppy', 0.47403451451476797),\n",
              " ('fish', 'fish', 0.9999999835563418),\n",
              " ('us', 'puppy', 0.07460756186017278),\n",
              " ('us', 'fish', 0.06723651128426716),\n",
              " ('puppy', 'fish', 0.47403451451476797)]"
            ]
          },
          "metadata": {
            "tags": []
          },
          "execution_count": 21
        }
      ]
    },
    {
      "cell_type": "markdown",
      "metadata": {
        "id": "5Be0oNrLUxcg",
        "colab_type": "text"
      },
      "source": [
        "## Similarity\n",
        "\n",
        "We can do simple queries to retreive words similar to \"socks\" based on cosine similarity:"
      ]
    },
    {
      "cell_type": "code",
      "metadata": {
        "id": "Rz6rmfq5Uxci",
        "colab_type": "code",
        "outputId": "4f5acb7a-0470-41ac-ab2f-123f28e48672",
        "colab": {
          "base_uri": "https://localhost:8080/",
          "height": 90
        }
      },
      "source": [
        "indexes, metrics = model.similar(\"president\")\n",
        "indexes, metrics"
      ],
      "execution_count": 0,
      "outputs": [
        {
          "output_type": "execute_result",
          "data": {
            "text/plain": [
              "(array([  692,  3369,  4675,  2841,  9702,  1265,  2636,  8028, 13667,\n",
              "         9551]),\n",
              " array([0.87103229, 0.84904996, 0.7873654 , 0.7805514 , 0.76927457,\n",
              "        0.76881406, 0.76800883, 0.74190841, 0.73325711, 0.72971273]))"
            ]
          },
          "metadata": {
            "tags": []
          },
          "execution_count": 24
        }
      ]
    },
    {
      "cell_type": "markdown",
      "metadata": {
        "id": "M4GSESh7Uxcs",
        "colab_type": "text"
      },
      "source": [
        "This returned a tuple with 2 items:\n",
        "1. numpy array with the indexes of the similar words in the vocabulary\n",
        "2. numpy array with cosine similarity to each word"
      ]
    },
    {
      "cell_type": "markdown",
      "metadata": {
        "id": "HrL8FadFUxcu",
        "colab_type": "text"
      },
      "source": [
        "We can get the words for those indexes"
      ]
    },
    {
      "cell_type": "code",
      "metadata": {
        "id": "Qh74UbnTUxcw",
        "colab_type": "code",
        "outputId": "e26657fc-a06f-4b5d-e3cb-30f007624e1c",
        "colab": {
          "base_uri": "https://localhost:8080/",
          "height": 90
        }
      },
      "source": [
        "model.vocab[indexes]"
      ],
      "execution_count": 0,
      "outputs": [
        {
          "output_type": "execute_result",
          "data": {
            "text/plain": [
              "array(['prime_minister', 'vice_president', 'governor_general',\n",
              "       'presidency', 'secretary_general', 'governor', 'chairman',\n",
              "       'attorney_general', 'presidential_candidate', 'chief_executive'],\n",
              "      dtype='<U78')"
            ]
          },
          "metadata": {
            "tags": []
          },
          "execution_count": 25
        }
      ]
    },
    {
      "cell_type": "markdown",
      "metadata": {
        "id": "Mla-mIDBUxc_",
        "colab_type": "text"
      },
      "source": [
        "There is a helper function to create a combined response as a numpy [record array](http://docs.scipy.org/doc/numpy/user/basics.rec.html)"
      ]
    },
    {
      "cell_type": "code",
      "metadata": {
        "id": "pjEeHAPFUxdA",
        "colab_type": "code",
        "outputId": "9e487629-4b50-4cb6-a061-fa7ad40c3906",
        "colab": {
          "base_uri": "https://localhost:8080/",
          "height": 146
        }
      },
      "source": [
        "model.generate_response(indexes, metrics)"
      ],
      "execution_count": 0,
      "outputs": [
        {
          "output_type": "execute_result",
          "data": {
            "text/plain": [
              "rec.array([('prime_minister', 0.87103229), ('vice_president', 0.84904996),\n",
              "           ('governor_general', 0.7873654 ), ('presidency', 0.7805514 ),\n",
              "           ('secretary_general', 0.76927457), ('governor', 0.76881406),\n",
              "           ('chairman', 0.76800883), ('attorney_general', 0.74190841),\n",
              "           ('presidential_candidate', 0.73325711),\n",
              "           ('chief_executive', 0.72971273)],\n",
              "          dtype=[('word', '<U78'), ('metric', '<f8')])"
            ]
          },
          "metadata": {
            "tags": []
          },
          "execution_count": 26
        }
      ]
    },
    {
      "cell_type": "markdown",
      "metadata": {
        "id": "R2z92baiUxdN",
        "colab_type": "text"
      },
      "source": [
        "Is easy to make that numpy array a pure python response:"
      ]
    },
    {
      "cell_type": "code",
      "metadata": {
        "id": "1qqm5SVHUxdN",
        "colab_type": "code",
        "outputId": "740986b0-2908-41fd-9ee4-a53d78c318d0",
        "colab": {
          "base_uri": "https://localhost:8080/",
          "height": 201
        }
      },
      "source": [
        "model.generate_response(indexes, metrics).tolist()"
      ],
      "execution_count": 0,
      "outputs": [
        {
          "output_type": "execute_result",
          "data": {
            "text/plain": [
              "[('prime_minister', 0.8710322861130149),\n",
              " ('vice_president', 0.8490499626679484),\n",
              " ('governor_general', 0.7873654018634985),\n",
              " ('presidency', 0.7805514004217579),\n",
              " ('secretary_general', 0.7692745667585241),\n",
              " ('governor', 0.7688140585104973),\n",
              " ('chairman', 0.7680088255106219),\n",
              " ('attorney_general', 0.7419084113413443),\n",
              " ('presidential_candidate', 0.7332571127925567),\n",
              " ('chief_executive', 0.7297127263843398)]"
            ]
          },
          "metadata": {
            "tags": []
          },
          "execution_count": 27
        }
      ]
    },
    {
      "cell_type": "markdown",
      "metadata": {
        "id": "0wOHau7vUxdS",
        "colab_type": "text"
      },
      "source": [
        "### Phrases"
      ]
    },
    {
      "cell_type": "markdown",
      "metadata": {
        "id": "xU4Pgf9DUxdT",
        "colab_type": "text"
      },
      "source": [
        "Since we trained the model with the output of `word2phrase` we can ask for similarity of \"phrases\", basically compained words such as \"Los Angeles\""
      ]
    },
    {
      "cell_type": "code",
      "metadata": {
        "id": "w5qGbowbUxdU",
        "colab_type": "code",
        "outputId": "0c94239a-9d1e-4120-a1d4-385dc88cc6e6",
        "colab": {
          "base_uri": "https://localhost:8080/",
          "height": 201
        }
      },
      "source": [
        "indexes, metrics = model.similar('los_angeles')\n",
        "model.generate_response(indexes, metrics).tolist()"
      ],
      "execution_count": 0,
      "outputs": [
        {
          "output_type": "execute_result",
          "data": {
            "text/plain": [
              "[('san_francisco', 0.892287914295503),\n",
              " ('san_diego', 0.8748981469833962),\n",
              " ('las_vegas', 0.8423311311019948),\n",
              " ('miami', 0.8271736458495658),\n",
              " ('seattle', 0.826007480538819),\n",
              " ('st_louis', 0.8190536079413904),\n",
              " ('california', 0.8102486091288328),\n",
              " ('chicago_illinois', 0.8089109900829013),\n",
              " ('atlanta', 0.8064165348227031),\n",
              " ('chicago', 0.8061796974720457)]"
            ]
          },
          "metadata": {
            "tags": []
          },
          "execution_count": 28
        }
      ]
    },
    {
      "cell_type": "markdown",
      "metadata": {
        "id": "tzccWg9ZUxdk",
        "colab_type": "text"
      },
      "source": [
        "### Analogies"
      ]
    },
    {
      "cell_type": "markdown",
      "metadata": {
        "id": "RBAvHmF4Uxdl",
        "colab_type": "text"
      },
      "source": [
        "Its possible to do more complex queries like analogies such as: `king - man + woman = queen` \n",
        "This method returns the same as `cosine` the indexes of the words in the vocab and the metric"
      ]
    },
    {
      "cell_type": "code",
      "metadata": {
        "id": "zx086Sb3Uxdn",
        "colab_type": "code",
        "outputId": "4b442ae2-abb6-49c0-a6bd-22abdd3d6a6b",
        "colab": {
          "base_uri": "https://localhost:8080/",
          "height": 72
        }
      },
      "source": [
        "indexes, metrics = model.analogy(pos=['king', 'woman'], neg=['man'])\n",
        "indexes, metrics"
      ],
      "execution_count": 0,
      "outputs": [
        {
          "output_type": "execute_result",
          "data": {
            "text/plain": [
              "(array([1088, 1145, 7540, 1335,  344, 3141,  648, 1827, 4978, 1427]),\n",
              " array([0.3009306 , 0.28403791, 0.2811162 , 0.27420477, 0.27184272,\n",
              "        0.27068602, 0.26695572, 0.26684499, 0.26527098, 0.26492222]))"
            ]
          },
          "metadata": {
            "tags": []
          },
          "execution_count": 31
        }
      ]
    },
    {
      "cell_type": "code",
      "metadata": {
        "id": "z__WIlz8Uxdv",
        "colab_type": "code",
        "outputId": "330ba415-505a-489d-fe4c-6d1113a1ff0d",
        "colab": {
          "base_uri": "https://localhost:8080/",
          "height": 201
        }
      },
      "source": [
        "model.generate_response(indexes, metrics).tolist()"
      ],
      "execution_count": 0,
      "outputs": [
        {
          "output_type": "execute_result",
          "data": {
            "text/plain": [
              "[('queen', 0.30093059684471635),\n",
              " ('prince', 0.2840379143612827),\n",
              " ('empress', 0.2811162012283034),\n",
              " ('wife', 0.2742047661529334),\n",
              " ('son', 0.27184272259250386),\n",
              " ('monarch', 0.27068601704401174),\n",
              " ('emperor', 0.2669557155381216),\n",
              " ('throne', 0.26684498948027807),\n",
              " ('heir', 0.2652709790272968),\n",
              " ('bishop', 0.26492221588511666)]"
            ]
          },
          "metadata": {
            "tags": []
          },
          "execution_count": 32
        }
      ]
    },
    {
      "cell_type": "markdown",
      "metadata": {
        "id": "x_NTpY8JUxd6",
        "colab_type": "text"
      },
      "source": [
        "### Clusters"
      ]
    },
    {
      "cell_type": "code",
      "metadata": {
        "id": "dnt1ScnpUxd8",
        "colab_type": "code",
        "colab": {}
      },
      "source": [
        "clusters = word2vec.load_clusters('text8-clusters.txt')"
      ],
      "execution_count": 0,
      "outputs": []
    },
    {
      "cell_type": "markdown",
      "metadata": {
        "id": "_fKIXrHhUxd_",
        "colab_type": "text"
      },
      "source": [
        "We can see get the cluster number for individual words"
      ]
    },
    {
      "cell_type": "code",
      "metadata": {
        "id": "vxquWAlPUxd_",
        "colab_type": "code",
        "outputId": "08ae481f-b211-4071-ba7a-b543b3aee6fb",
        "colab": {
          "base_uri": "https://localhost:8080/",
          "height": 54
        }
      },
      "source": [
        "clusters.vocab"
      ],
      "execution_count": 0,
      "outputs": [
        {
          "output_type": "execute_result",
          "data": {
            "text/plain": [
              "array(['</s>', 'the', 'of', ..., 'denishawn', 'tamiris', 'dolophine'],\n",
              "      dtype='<U29')"
            ]
          },
          "metadata": {
            "tags": []
          },
          "execution_count": 34
        }
      ]
    },
    {
      "cell_type": "markdown",
      "metadata": {
        "id": "RKUOw9hOUxeF",
        "colab_type": "text"
      },
      "source": [
        "We can see get all the words grouped on an specific cluster"
      ]
    },
    {
      "cell_type": "code",
      "metadata": {
        "id": "1eXZmEFoUxeV",
        "colab_type": "code",
        "outputId": "258952ce-2270-4ffd-da1b-733eb898acfc",
        "colab": {
          "base_uri": "https://localhost:8080/",
          "height": 35
        }
      },
      "source": [
        "clusters.get_words_on_cluster(90).shape"
      ],
      "execution_count": 0,
      "outputs": [
        {
          "output_type": "execute_result",
          "data": {
            "text/plain": [
              "(277,)"
            ]
          },
          "metadata": {
            "tags": []
          },
          "execution_count": 35
        }
      ]
    },
    {
      "cell_type": "code",
      "metadata": {
        "id": "PSWbWhdsUxed",
        "colab_type": "code",
        "outputId": "652ca99c-9a1a-4455-cb0f-97984cc754a4",
        "colab": {
          "base_uri": "https://localhost:8080/",
          "height": 54
        }
      },
      "source": [
        "clusters.get_words_on_cluster(90)[:10]"
      ],
      "execution_count": 0,
      "outputs": [
        {
          "output_type": "execute_result",
          "data": {
            "text/plain": [
              "array(['common', 'popular', 'important', 'complex', 'personal', 'simple',\n",
              "       'perhaps', 'direct', 'likely', 'difficult'], dtype='<U29')"
            ]
          },
          "metadata": {
            "tags": []
          },
          "execution_count": 36
        }
      ]
    },
    {
      "cell_type": "markdown",
      "metadata": {
        "id": "yeMuqNkFUxeh",
        "colab_type": "text"
      },
      "source": [
        "We can add the clusters to the word2vec model and generate a response that includes the clusters"
      ]
    },
    {
      "cell_type": "code",
      "metadata": {
        "id": "KT_FwXVIUxei",
        "colab_type": "code",
        "colab": {}
      },
      "source": [
        "model.clusters = clusters"
      ],
      "execution_count": 0,
      "outputs": []
    },
    {
      "cell_type": "code",
      "metadata": {
        "id": "-go639BrUxek",
        "colab_type": "code",
        "colab": {}
      },
      "source": [
        "indexes, metrics = model.analogy(pos=[\"paris\", \"germany\"], neg=[\"france\"])"
      ],
      "execution_count": 0,
      "outputs": []
    },
    {
      "cell_type": "code",
      "metadata": {
        "id": "C2n-pM6hUxeo",
        "colab_type": "code",
        "outputId": "aa89b96c-6235-4f26-a9d3-a580cbd1dd1f",
        "colab": {
          "base_uri": "https://localhost:8080/",
          "height": 201
        }
      },
      "source": [
        "model.generate_response(indexes, metrics).tolist()"
      ],
      "execution_count": 0,
      "outputs": [
        {
          "output_type": "execute_result",
          "data": {
            "text/plain": [
              "[('berlin', 0.32906900744509854, 20),\n",
              " ('munich', 0.2932948277328571, 2),\n",
              " ('vienna', 0.2930819847373299, 82),\n",
              " ('leipzig', 0.28171054300657594, 41),\n",
              " ('moscow', 0.2760764595617845, 59),\n",
              " ('st_petersburg', 0.2717150667508963, 63),\n",
              " ('z_rich', 0.26163907170100476, 42),\n",
              " ('prague', 0.2612307315522932, 45),\n",
              " ('bonn', 0.2533462051722798, 10),\n",
              " ('dresden', 0.2518359568299504, 86)]"
            ]
          },
          "metadata": {
            "tags": []
          },
          "execution_count": 39
        }
      ]
    },
    {
      "cell_type": "code",
      "metadata": {
        "id": "8ncuVM_XUxe3",
        "colab_type": "code",
        "colab": {}
      },
      "source": [
        ""
      ],
      "execution_count": 0,
      "outputs": []
    }
  ]
}