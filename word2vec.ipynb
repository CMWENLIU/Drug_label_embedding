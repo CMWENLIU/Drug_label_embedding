{
  "nbformat": 4,
  "nbformat_minor": 0,
  "metadata": {
    "colab": {
      "name": "Copy of word2vec.ipynb",
      "version": "0.3.2",
      "provenance": [],
      "include_colab_link": true
    },
    "language_info": {
      "codemirror_mode": {
        "name": "ipython",
        "version": 3
      },
      "file_extension": ".py",
      "mimetype": "text/x-python",
      "name": "python",
      "nbconvert_exporter": "python",
      "pygments_lexer": "ipython3",
      "version": "3.7.0"
    },
    "kernelspec": {
      "display_name": "Python 3",
      "language": "python",
      "name": "python3"
    }
  },
  "cells": [
    {
      "cell_type": "markdown",
      "metadata": {
        "id": "view-in-github",
        "colab_type": "text"
      },
      "source": [
        "<a href=\"https://colab.research.google.com/github/CMWENLIU/Drug_label_embedding/blob/master/word2vec.ipynb\" target=\"_parent\"><img src=\"https://colab.research.google.com/assets/colab-badge.svg\" alt=\"Open In Colab\"/></a>"
      ]
    },
    {
      "cell_type": "code",
      "metadata": {
        "id": "yR7AjTKxglcd",
        "colab_type": "code",
        "colab": {}
      },
      "source": [
        "! pip install word2vec"
      ],
      "execution_count": 0,
      "outputs": []
    },
    {
      "cell_type": "markdown",
      "metadata": {
        "id": "3azPI5vagfKL",
        "colab_type": "text"
      },
      "source": [
        "# word2vec "
      ]
    },
    {
      "cell_type": "markdown",
      "metadata": {
        "id": "ch1oi9SDgfKW",
        "colab_type": "text"
      },
      "source": [
        "This notebook is equivalent to `demo-word.sh`, `demo-analogy.sh`, `demo-phrases.sh` and `demo-classes.sh` from Google."
      ]
    },
    {
      "cell_type": "code",
      "metadata": {
        "id": "r23HX4sKgfKa",
        "colab_type": "code",
        "colab": {}
      },
      "source": [
        "%load_ext autoreload\n",
        "%autoreload 2"
      ],
      "execution_count": 0,
      "outputs": []
    },
    {
      "cell_type": "markdown",
      "metadata": {
        "id": "NMsyiyECgfKn",
        "colab_type": "text"
      },
      "source": [
        "## Training"
      ]
    },
    {
      "cell_type": "markdown",
      "metadata": {
        "id": "fawD_ORPgfKr",
        "colab_type": "text"
      },
      "source": [
        "Download some data, for example: [http://mattmahoney.net/dc/text8.zip](http://mattmahoney.net/dc/text8.zip)"
      ]
    },
    {
      "cell_type": "code",
      "metadata": {
        "id": "nU5S_1a2gfKv",
        "colab_type": "code",
        "colab": {}
      },
      "source": [
        "import word2vec"
      ],
      "execution_count": 0,
      "outputs": []
    },
    {
      "cell_type": "markdown",
      "metadata": {
        "id": "W3Pw6toxgfK4",
        "colab_type": "text"
      },
      "source": [
        "Run `word2phrase` to group up similar words \"Los Angeles\" to \"Los_Angeles\""
      ]
    },
    {
      "cell_type": "code",
      "metadata": {
        "id": "B-jLVKWzgfK6",
        "colab_type": "code",
        "outputId": "5ba9383e-06fe-4332-f196-d93c8b831e1c",
        "colab": {}
      },
      "source": [
        "word2vec.word2phrase('/Users/drodriguez/Downloads/text8', '/Users/drodriguez/Downloads/text8-phrases', verbose=True)"
      ],
      "execution_count": 0,
      "outputs": [
        {
          "output_type": "stream",
          "text": [
            "Starting training using file /Users/drodriguez/Downloads/text8\n",
            "Words processed: 17000K     Vocab size: 4399K  \n",
            "Vocab size (unigrams + bigrams): 2419827\n",
            "Words in train file: 17005206\n"
          ],
          "name": "stdout"
        }
      ]
    },
    {
      "cell_type": "markdown",
      "metadata": {
        "id": "xK12eA7_gfLE",
        "colab_type": "text"
      },
      "source": [
        "This created a `text8-phrases` file that we can use as a better input for `word2vec`.\n",
        "Note that you could easily skip this previous step and use the text data as input for `word2vec` directly.\n",
        "\n",
        "Now actually train the word2vec model."
      ]
    },
    {
      "cell_type": "code",
      "metadata": {
        "id": "G1JqcPAwgfLG",
        "colab_type": "code",
        "outputId": "45d5de57-752e-4f30-97a7-7d2509e97ae6",
        "colab": {}
      },
      "source": [
        "word2vec.word2vec('/Users/drodriguez/Downloads/text8-phrases', '/Users/drodriguez/Downloads/text8.bin', size=100, verbose=True)"
      ],
      "execution_count": 0,
      "outputs": [
        {
          "output_type": "stream",
          "text": [
            "Starting training using file /Users/drodriguez/Downloads/text8-phrases\n",
            "Vocab size: 98331\n",
            "Words in train file: 15857306\n",
            "Alpha: 0.000002  Progress: 100.03%  Words/thread/sec: 323.95k  "
          ],
          "name": "stdout"
        }
      ]
    },
    {
      "cell_type": "markdown",
      "metadata": {
        "id": "BbDXPFk0gfLS",
        "colab_type": "text"
      },
      "source": [
        "That created a `text8.bin` file containing the word vectors in a binary format."
      ]
    },
    {
      "cell_type": "markdown",
      "metadata": {
        "id": "HVMhRjqjgfLa",
        "colab_type": "text"
      },
      "source": [
        "Now we generate the clusters of the vectors based on the trained model."
      ]
    },
    {
      "cell_type": "code",
      "metadata": {
        "id": "fl0elmE1gfLc",
        "colab_type": "code",
        "outputId": "8bb85f3b-c1ae-4071-97a2-5da085d2cfda",
        "colab": {}
      },
      "source": [
        "word2vec.word2clusters('/Users/drodriguez/Downloads/text8', '/Users/drodriguez/Downloads/text8-clusters.txt', 100, verbose=True)"
      ],
      "execution_count": 0,
      "outputs": [
        {
          "output_type": "stream",
          "text": [
            "Starting training using file /Users/drodriguez/Downloads/text8\n",
            "Vocab size: 71291\n",
            "Words in train file: 16718843\n",
            "Alpha: 0.000002  Progress: 100.04%  Words/thread/sec: 317.72k  "
          ],
          "name": "stdout"
        }
      ]
    },
    {
      "cell_type": "markdown",
      "metadata": {
        "id": "l_FBKaoOgfLn",
        "colab_type": "text"
      },
      "source": [
        "That created a `text8-clusters.txt` with the cluster for every word in the vocabulary"
      ]
    },
    {
      "cell_type": "markdown",
      "metadata": {
        "id": "uV-GEdnAgfLq",
        "colab_type": "text"
      },
      "source": [
        "## Predictions"
      ]
    },
    {
      "cell_type": "code",
      "metadata": {
        "id": "Qy5jgVbIgfLt",
        "colab_type": "code",
        "colab": {}
      },
      "source": [
        "%load_ext autoreload\n",
        "%autoreload 2"
      ],
      "execution_count": 0,
      "outputs": []
    },
    {
      "cell_type": "code",
      "metadata": {
        "id": "qBhdjWFfgfL_",
        "colab_type": "code",
        "colab": {}
      },
      "source": [
        "import word2vec"
      ],
      "execution_count": 0,
      "outputs": []
    },
    {
      "cell_type": "markdown",
      "metadata": {
        "id": "dCCdfrLZgfMH",
        "colab_type": "text"
      },
      "source": [
        "Import the `word2vec` binary file created above"
      ]
    },
    {
      "cell_type": "code",
      "metadata": {
        "id": "h77QQF8_gfMI",
        "colab_type": "code",
        "colab": {}
      },
      "source": [
        "model = word2vec.load('/Users/drodriguez/Downloads/text8.bin')"
      ],
      "execution_count": 0,
      "outputs": []
    },
    {
      "cell_type": "markdown",
      "metadata": {
        "id": "vjZB01j5gfMO",
        "colab_type": "text"
      },
      "source": [
        "We can take a look at the vocabulary as a numpy array"
      ]
    },
    {
      "cell_type": "code",
      "metadata": {
        "id": "HvWh2b0igfMR",
        "colab_type": "code",
        "outputId": "3a2b5252-1ec0-4033-d829-8d24edd9e6b0",
        "colab": {}
      },
      "source": [
        "model.vocab"
      ],
      "execution_count": 0,
      "outputs": [
        {
          "output_type": "execute_result",
          "data": {
            "text/plain": [
              "array(['</s>', 'the', 'of', ..., 'dakotas', 'nias', 'burlesques'],\n",
              "      dtype='<U78')"
            ]
          },
          "metadata": {
            "tags": []
          },
          "execution_count": 5
        }
      ]
    },
    {
      "cell_type": "markdown",
      "metadata": {
        "id": "AF4A-9Q0gfMi",
        "colab_type": "text"
      },
      "source": [
        "Or take a look at the whole matrix"
      ]
    },
    {
      "cell_type": "code",
      "metadata": {
        "id": "ZA9z9gN1gfMm",
        "colab_type": "code",
        "outputId": "1a0a24e2-915b-4e11-b23b-a337bcafd50f",
        "colab": {}
      },
      "source": [
        "model.vectors.shape"
      ],
      "execution_count": 0,
      "outputs": [
        {
          "output_type": "execute_result",
          "data": {
            "text/plain": [
              "(98331, 100)"
            ]
          },
          "metadata": {
            "tags": []
          },
          "execution_count": 6
        }
      ]
    },
    {
      "cell_type": "code",
      "metadata": {
        "id": "Jsm45nLZgfMy",
        "colab_type": "code",
        "outputId": "3b2c317e-c53c-4f48-b328-50b75b3899d4",
        "colab": {}
      },
      "source": [
        "model.vectors"
      ],
      "execution_count": 0,
      "outputs": [
        {
          "output_type": "execute_result",
          "data": {
            "text/plain": [
              "array([[ 0.14333282,  0.15825513, -0.13715845, ...,  0.05456942,\n",
              "         0.10955409,  0.00693387],\n",
              "       [ 0.07306823,  0.1179086 ,  0.10995189, ...,  0.09345266,\n",
              "        -0.1312812 , -0.00915683],\n",
              "       [ 0.26229969,  0.02270839,  0.05854911, ...,  0.03924898,\n",
              "        -0.03867628,  0.21437503],\n",
              "       ...,\n",
              "       [-0.1427108 ,  0.10650002,  0.07283197, ...,  0.14563465,\n",
              "        -0.06967127,  0.037186  ],\n",
              "       [ 0.06538665, -0.04184594,  0.13385373, ...,  0.08183857,\n",
              "        -0.07006828, -0.09386028],\n",
              "       [-0.00991228, -0.12096601,  0.10771658, ...,  0.01684521,\n",
              "        -0.143217  , -0.10602982]])"
            ]
          },
          "metadata": {
            "tags": []
          },
          "execution_count": 7
        }
      ]
    },
    {
      "cell_type": "markdown",
      "metadata": {
        "id": "NztBBHRbgfND",
        "colab_type": "text"
      },
      "source": [
        "We can retreive the vector of individual words"
      ]
    },
    {
      "cell_type": "code",
      "metadata": {
        "id": "w9GmV3-bgfNF",
        "colab_type": "code",
        "outputId": "74227368-e3f2-472b-9d35-825f9585af20",
        "colab": {}
      },
      "source": [
        "model['dog'].shape"
      ],
      "execution_count": 0,
      "outputs": [
        {
          "output_type": "execute_result",
          "data": {
            "text/plain": [
              "(100,)"
            ]
          },
          "metadata": {
            "tags": []
          },
          "execution_count": 8
        }
      ]
    },
    {
      "cell_type": "code",
      "metadata": {
        "id": "vAU4Vd3qgfNN",
        "colab_type": "code",
        "outputId": "adc33b0d-c5cd-44eb-dc9c-9faf938a5393",
        "colab": {}
      },
      "source": [
        "model['dog'][:10]"
      ],
      "execution_count": 0,
      "outputs": [
        {
          "output_type": "execute_result",
          "data": {
            "text/plain": [
              "array([ 0.06666815,  0.12450022,  0.02513653,  0.12673911,  0.13396765,\n",
              "       -0.00938436,  0.06476378,  0.15387769,  0.05472341, -0.08388881])"
            ]
          },
          "metadata": {
            "tags": []
          },
          "execution_count": 9
        }
      ]
    },
    {
      "cell_type": "markdown",
      "metadata": {
        "id": "abCeT_w3gfNe",
        "colab_type": "text"
      },
      "source": [
        "We can calculate the distance between two or more (all combinations) words."
      ]
    },
    {
      "cell_type": "code",
      "metadata": {
        "id": "pDLt4t7hgfNn",
        "colab_type": "code",
        "outputId": "1ce15f6a-a686-4767-f74e-dc887e9637da",
        "colab": {}
      },
      "source": [
        "model.distance(\"dog\", \"cat\", \"fish\")"
      ],
      "execution_count": 0,
      "outputs": [
        {
          "output_type": "execute_result",
          "data": {
            "text/plain": [
              "[('dog', 'cat', 0.8693732680572173),\n",
              " ('dog', 'fish', 0.5900484800297155),\n",
              " ('cat', 'fish', 0.6269017149314428)]"
            ]
          },
          "metadata": {
            "tags": []
          },
          "execution_count": 10
        }
      ]
    },
    {
      "cell_type": "markdown",
      "metadata": {
        "id": "UcT2BVvAgfNz",
        "colab_type": "text"
      },
      "source": [
        "## Similarity\n",
        "\n",
        "We can do simple queries to retreive words similar to \"socks\" based on cosine similarity:"
      ]
    },
    {
      "cell_type": "code",
      "metadata": {
        "id": "x7eHXaEWgfN0",
        "colab_type": "code",
        "outputId": "9d995233-253f-4a81-8cb1-712c5469682c",
        "colab": {}
      },
      "source": [
        "indexes, metrics = model.similar(\"dog\")\n",
        "indexes, metrics"
      ],
      "execution_count": 0,
      "outputs": [
        {
          "output_type": "execute_result",
          "data": {
            "text/plain": [
              "(array([ 2437,  5478,  7593, 10230,  3964,  9963,  2428, 10309,  4812,\n",
              "         2391]),\n",
              " array([0.86937327, 0.83396105, 0.77854628, 0.7692265 , 0.76743628,\n",
              "        0.7612772 , 0.7600788 , 0.75935677, 0.75693881, 0.75438956]))"
            ]
          },
          "metadata": {
            "tags": []
          },
          "execution_count": 11
        }
      ]
    },
    {
      "cell_type": "markdown",
      "metadata": {
        "id": "w8KVq_dbgfN_",
        "colab_type": "text"
      },
      "source": [
        "This returned a tuple with 2 items:\n",
        "1. numpy array with the indexes of the similar words in the vocabulary\n",
        "2. numpy array with cosine similarity to each word"
      ]
    },
    {
      "cell_type": "markdown",
      "metadata": {
        "id": "g9bHxJcZgfOD",
        "colab_type": "text"
      },
      "source": [
        "We can get the words for those indexes"
      ]
    },
    {
      "cell_type": "code",
      "metadata": {
        "id": "ATm-dUMLgfOF",
        "colab_type": "code",
        "outputId": "f73b25a2-c29a-4d7f-92ce-106461150969",
        "colab": {}
      },
      "source": [
        "model.vocab[indexes]"
      ],
      "execution_count": 0,
      "outputs": [
        {
          "output_type": "execute_result",
          "data": {
            "text/plain": [
              "array(['cat', 'cow', 'goat', 'pig', 'dogs', 'rabbit', 'bear', 'rat',\n",
              "       'wolf', 'girl'], dtype='<U78')"
            ]
          },
          "metadata": {
            "tags": []
          },
          "execution_count": 12
        }
      ]
    },
    {
      "cell_type": "markdown",
      "metadata": {
        "id": "7GRWsL91gfOa",
        "colab_type": "text"
      },
      "source": [
        "There is a helper function to create a combined response as a numpy [record array](http://docs.scipy.org/doc/numpy/user/basics.rec.html)"
      ]
    },
    {
      "cell_type": "code",
      "metadata": {
        "id": "CySBuJuQgfOb",
        "colab_type": "code",
        "outputId": "af22cb6c-ab7a-48fd-a6ba-dbc88ecce24c",
        "colab": {}
      },
      "source": [
        "model.generate_response(indexes, metrics)"
      ],
      "execution_count": 0,
      "outputs": [
        {
          "output_type": "execute_result",
          "data": {
            "text/plain": [
              "rec.array([('cat', 0.86937327), ('cow', 0.83396105), ('goat', 0.77854628),\n",
              "           ('pig', 0.7692265 ), ('dogs', 0.76743628),\n",
              "           ('rabbit', 0.7612772 ), ('bear', 0.7600788 ),\n",
              "           ('rat', 0.75935677), ('wolf', 0.75693881),\n",
              "           ('girl', 0.75438956)],\n",
              "          dtype=[('word', '<U78'), ('metric', '<f8')])"
            ]
          },
          "metadata": {
            "tags": []
          },
          "execution_count": 13
        }
      ]
    },
    {
      "cell_type": "markdown",
      "metadata": {
        "id": "YxK8TqHIgfOl",
        "colab_type": "text"
      },
      "source": [
        "Is easy to make that numpy array a pure python response:"
      ]
    },
    {
      "cell_type": "code",
      "metadata": {
        "id": "LWyT8PujgfOr",
        "colab_type": "code",
        "outputId": "d7ee56c3-2851-42db-9faf-335a653743fe",
        "colab": {}
      },
      "source": [
        "model.generate_response(indexes, metrics).tolist()"
      ],
      "execution_count": 0,
      "outputs": [
        {
          "output_type": "execute_result",
          "data": {
            "text/plain": [
              "[('cat', 0.8693732680572173),\n",
              " ('cow', 0.8339610529888226),\n",
              " ('goat', 0.7785462766666428),\n",
              " ('pig', 0.7692265048531302),\n",
              " ('dogs', 0.7674362783482181),\n",
              " ('rabbit', 0.7612771996422674),\n",
              " ('bear', 0.7600788045286304),\n",
              " ('rat', 0.7593567655129181),\n",
              " ('wolf', 0.7569388070301634),\n",
              " ('girl', 0.754389556345068)]"
            ]
          },
          "metadata": {
            "tags": []
          },
          "execution_count": 14
        }
      ]
    },
    {
      "cell_type": "markdown",
      "metadata": {
        "id": "TozeeGcEgfO0",
        "colab_type": "text"
      },
      "source": [
        "### Phrases"
      ]
    },
    {
      "cell_type": "markdown",
      "metadata": {
        "id": "fDFRuC6PgfO2",
        "colab_type": "text"
      },
      "source": [
        "Since we trained the model with the output of `word2phrase` we can ask for similarity of \"phrases\", basically compained words such as \"Los Angeles\""
      ]
    },
    {
      "cell_type": "code",
      "metadata": {
        "id": "NuniNouigfO3",
        "colab_type": "code",
        "outputId": "34ea2627-5854-46b8-99f5-2be5204b7659",
        "colab": {}
      },
      "source": [
        "indexes, metrics = model.similar('los_angeles')\n",
        "model.generate_response(indexes, metrics).tolist()"
      ],
      "execution_count": 0,
      "outputs": [
        {
          "output_type": "execute_result",
          "data": {
            "text/plain": [
              "[('san_francisco', 0.8876351265573288),\n",
              " ('san_diego', 0.8652920422732189),\n",
              " ('seattle', 0.8387625165949533),\n",
              " ('las_vegas', 0.8325965377422355),\n",
              " ('california', 0.8252775393303263),\n",
              " ('miami', 0.8167069457881345),\n",
              " ('detroit', 0.8164911899252103),\n",
              " ('chicago', 0.813283620659967),\n",
              " ('cincinnati', 0.8116379669114295),\n",
              " ('cleveland', 0.810708205429068)]"
            ]
          },
          "metadata": {
            "tags": []
          },
          "execution_count": 15
        }
      ]
    },
    {
      "cell_type": "markdown",
      "metadata": {
        "id": "erGHdgJUgfPH",
        "colab_type": "text"
      },
      "source": [
        "### Analogies"
      ]
    },
    {
      "cell_type": "markdown",
      "metadata": {
        "id": "YDlCYBIagfPI",
        "colab_type": "text"
      },
      "source": [
        "Its possible to do more complex queries like analogies such as: `king - man + woman = queen` \n",
        "This method returns the same as `cosine` the indexes of the words in the vocab and the metric"
      ]
    },
    {
      "cell_type": "code",
      "metadata": {
        "id": "WHOGGqmSgfPJ",
        "colab_type": "code",
        "outputId": "22c4bdb8-9c9c-49ec-dc57-5c3cc4228010",
        "colab": {}
      },
      "source": [
        "indexes, metrics = model.analogy(pos=['king', 'woman'], neg=['man'])\n",
        "indexes, metrics"
      ],
      "execution_count": 0,
      "outputs": [
        {
          "output_type": "execute_result",
          "data": {
            "text/plain": [
              "(array([1087, 6768, 1145, 7523, 1335, 8419, 3141, 1827,  344, 4980]),\n",
              " array([0.28823424, 0.26614362, 0.26265608, 0.26111525, 0.26091172,\n",
              "        0.25844542, 0.25781944, 0.25678284, 0.25424551, 0.2529607 ]))"
            ]
          },
          "metadata": {
            "tags": []
          },
          "execution_count": 16
        }
      ]
    },
    {
      "cell_type": "code",
      "metadata": {
        "id": "xdtmMnUdgfPO",
        "colab_type": "code",
        "outputId": "d43ed858-dba9-40f3-ab4e-b78dfc251b22",
        "colab": {}
      },
      "source": [
        "model.generate_response(indexes, metrics).tolist()"
      ],
      "execution_count": 0,
      "outputs": [
        {
          "output_type": "execute_result",
          "data": {
            "text/plain": [
              "[('queen', 0.28823424120681784),\n",
              " ('regent', 0.26614361576778933),\n",
              " ('prince', 0.2626560787162791),\n",
              " ('empress', 0.2611152451318436),\n",
              " ('wife', 0.26091172315990346),\n",
              " ('aragon', 0.25844541581050506),\n",
              " ('monarch', 0.25781944140528035),\n",
              " ('throne', 0.256782835877586),\n",
              " ('son', 0.25424550637754495),\n",
              " ('heir', 0.25296070456687614)]"
            ]
          },
          "metadata": {
            "tags": []
          },
          "execution_count": 17
        }
      ]
    },
    {
      "cell_type": "markdown",
      "metadata": {
        "id": "HVDhUiMmgfPZ",
        "colab_type": "text"
      },
      "source": [
        "### Clusters"
      ]
    },
    {
      "cell_type": "code",
      "metadata": {
        "id": "z09uHc1zgfPa",
        "colab_type": "code",
        "colab": {}
      },
      "source": [
        "clusters = word2vec.load_clusters('/Users/drodriguez/Downloads/text8-clusters.txt')"
      ],
      "execution_count": 0,
      "outputs": []
    },
    {
      "cell_type": "markdown",
      "metadata": {
        "id": "jp7Pd0pIgfPd",
        "colab_type": "text"
      },
      "source": [
        "We can see get the cluster number for individual words"
      ]
    },
    {
      "cell_type": "code",
      "metadata": {
        "id": "iivR8QhdgfPd",
        "colab_type": "code",
        "outputId": "b5397d49-e380-4cc6-df2b-8f2650a60606",
        "colab": {}
      },
      "source": [
        "clusters.vocab"
      ],
      "execution_count": 0,
      "outputs": [
        {
          "output_type": "execute_result",
          "data": {
            "text/plain": [
              "array(['</s>', 'the', 'of', ..., 'bredon', 'skirting', 'santamaria'],\n",
              "      dtype='<U29')"
            ]
          },
          "metadata": {
            "tags": []
          },
          "execution_count": 19
        }
      ]
    },
    {
      "cell_type": "markdown",
      "metadata": {
        "id": "0oL_g5_LgfPl",
        "colab_type": "text"
      },
      "source": [
        "We can see get all the words grouped on an specific cluster"
      ]
    },
    {
      "cell_type": "code",
      "metadata": {
        "id": "qFmtdizogfPo",
        "colab_type": "code",
        "outputId": "80cfe5fe-53ce-41f1-b1d8-1d820848efc4",
        "colab": {}
      },
      "source": [
        "clusters.get_words_on_cluster(90).shape"
      ],
      "execution_count": 0,
      "outputs": [
        {
          "output_type": "execute_result",
          "data": {
            "text/plain": [
              "(206,)"
            ]
          },
          "metadata": {
            "tags": []
          },
          "execution_count": 20
        }
      ]
    },
    {
      "cell_type": "code",
      "metadata": {
        "id": "wIhVgiLHgfPx",
        "colab_type": "code",
        "outputId": "9a094f70-2432-4dee-a264-b8055755c076",
        "colab": {}
      },
      "source": [
        "clusters.get_words_on_cluster(90)[:10]"
      ],
      "execution_count": 0,
      "outputs": [
        {
          "output_type": "execute_result",
          "data": {
            "text/plain": [
              "array(['along', 'associated', 'relations', 'relationship', 'deal',\n",
              "       'combined', 'contact', 'connection', 'respect', 'mixed'],\n",
              "      dtype='<U29')"
            ]
          },
          "metadata": {
            "tags": []
          },
          "execution_count": 21
        }
      ]
    },
    {
      "cell_type": "markdown",
      "metadata": {
        "id": "_AS0jlkLgfP4",
        "colab_type": "text"
      },
      "source": [
        "We can add the clusters to the word2vec model and generate a response that includes the clusters"
      ]
    },
    {
      "cell_type": "code",
      "metadata": {
        "id": "62xyOr8OgfP5",
        "colab_type": "code",
        "colab": {}
      },
      "source": [
        "model.clusters = clusters"
      ],
      "execution_count": 0,
      "outputs": []
    },
    {
      "cell_type": "code",
      "metadata": {
        "id": "7dEWP8RZgfP_",
        "colab_type": "code",
        "colab": {}
      },
      "source": [
        "indexes, metrics = model.analogy(pos=[\"paris\", \"germany\"], neg=[\"france\"])"
      ],
      "execution_count": 0,
      "outputs": []
    },
    {
      "cell_type": "code",
      "metadata": {
        "id": "YzsJqtvcgfQE",
        "colab_type": "code",
        "outputId": "e4a1c25d-da81-4e8d-a654-0b034e80f9bd",
        "colab": {}
      },
      "source": [
        "model.generate_response(indexes, metrics).tolist()"
      ],
      "execution_count": 0,
      "outputs": [
        {
          "output_type": "execute_result",
          "data": {
            "text/plain": [
              "[('berlin', 0.3187078682472152, 15),\n",
              " ('vienna', 0.28562803640143397, 12),\n",
              " ('munich', 0.28527806428082675, 21),\n",
              " ('moscow', 0.27085681100243797, 74),\n",
              " ('leipzig', 0.2697639527846636, 8),\n",
              " ('st_petersburg', 0.25841328545046965, 61),\n",
              " ('prague', 0.2571333430942206, 72),\n",
              " ('bonn', 0.2546126113385251, 8),\n",
              " ('dresden', 0.2471285069069249, 71),\n",
              " ('warsaw', 0.2450778083401204, 74)]"
            ]
          },
          "metadata": {
            "tags": []
          },
          "execution_count": 24
        }
      ]
    },
    {
      "cell_type": "code",
      "metadata": {
        "id": "1VLJes2QgfQU",
        "colab_type": "code",
        "colab": {}
      },
      "source": [
        ""
      ],
      "execution_count": 0,
      "outputs": []
    }
  ]
}