{
  "nbformat": 4,
  "nbformat_minor": 0,
  "metadata": {
    "colab": {
      "name": "drug_label.ipynb",
      "version": "0.3.2",
      "provenance": [],
      "collapsed_sections": [],
      "include_colab_link": true
    },
    "kernelspec": {
      "name": "python3",
      "display_name": "Python 3"
    }
  },
  "cells": [
    {
      "cell_type": "markdown",
      "metadata": {
        "id": "view-in-github",
        "colab_type": "text"
      },
      "source": [
        "<a href=\"https://colab.research.google.com/github/CMWENLIU/Drug_label_embedding/blob/master/drug_label.ipynb\" target=\"_parent\"><img src=\"https://colab.research.google.com/assets/colab-badge.svg\" alt=\"Open In Colab\"/></a>"
      ]
    },
    {
      "cell_type": "code",
      "metadata": {
        "id": "kUU7ibxJcOvn",
        "colab_type": "code",
        "colab": {
          "base_uri": "https://localhost:8080/",
          "height": 106
        },
        "outputId": "fe7f11aa-da49-4e81-8ddc-eeffa893b0a6"
      },
      "source": [
        "!pip3 install --quiet wget\n",
        "!pip install html2text"
      ],
      "execution_count": 12,
      "outputs": [
        {
          "output_type": "stream",
          "text": [
            "Collecting html2text\n",
            "  Downloading https://files.pythonhosted.org/packages/16/20/de2b458ef434713053dd83209a03a5431ebe0527c8e14d9ae7838ff67d8a/html2text-2018.1.9-py3-none-any.whl\n",
            "Installing collected packages: html2text\n",
            "Successfully installed html2text-2018.1.9\n"
          ],
          "name": "stdout"
        }
      ]
    },
    {
      "cell_type": "code",
      "metadata": {
        "id": "4puLll5ccnHR",
        "colab_type": "code",
        "colab": {
          "base_uri": "https://localhost:8080/",
          "height": 52
        },
        "outputId": "0704345f-2dc2-4520-eb7e-0a2794f79628"
      },
      "source": [
        "import os\n",
        "import csv\n",
        "import pandas as pd\n",
        "import re\n",
        "import wget\n",
        "import html2text\n",
        "import nltk\n",
        "nltk.download('punkt')\n",
        "from nltk import sent_tokenize\n",
        "import nltk.data"
      ],
      "execution_count": 61,
      "outputs": [
        {
          "output_type": "stream",
          "text": [
            "[nltk_data] Downloading package punkt to /root/nltk_data...\n",
            "[nltk_data]   Package punkt is already up-to-date!\n"
          ],
          "name": "stdout"
        }
      ]
    },
    {
      "cell_type": "code",
      "metadata": {
        "id": "iVmVd1sFcu9W",
        "colab_type": "code",
        "colab": {
          "base_uri": "https://localhost:8080/",
          "height": 34
        },
        "outputId": "1b2f114f-6a90-4fb2-d449-73ac5719ce02"
      },
      "source": [
        "urls = [\"https://raw.githubusercontent.com/CMWENLIU/Drug_label_embedding/master/fdalabel-query-1132.csv\",\n",
        "       \"https://raw.githubusercontent.com/CMWENLIU/Drug_label_embedding/master/indications_humanrx.xlsx\",\n",
        "       ]\n",
        "[wget.download(u) for u in urls]    "
      ],
      "execution_count": 14,
      "outputs": [
        {
          "output_type": "execute_result",
          "data": {
            "text/plain": [
              "['fdalabel-query-1132 (1).csv', 'indications_humanrx (1).xlsx']"
            ]
          },
          "metadata": {
            "tags": []
          },
          "execution_count": 14
        }
      ]
    },
    {
      "cell_type": "code",
      "metadata": {
        "id": "LPGEVu8ad2yo",
        "colab_type": "code",
        "colab": {}
      },
      "source": [
        "def clean_str(string):\n",
        "   \n",
        "    string = re.sub(r\"[^A-Za-z0-9(),!?\\'\\`]\", \" \", string)\n",
        "    string = re.sub(r\"\\'s\", \" \\'s\", string)\n",
        "    string = re.sub(r\"\\'ve\", \" \\'ve\", string)\n",
        "    string = re.sub(r\"n\\'t\", \" n\\'t\", string)\n",
        "    string = re.sub(r\"\\'re\", \" \\'re\", string)\n",
        "    string = re.sub(r\"\\'d\", \" \\'d\", string)\n",
        "    string = re.sub(r\"\\'ll\", \" \\'ll\", string)\n",
        "    string = re.sub(r\",\", \" , \", string)\n",
        "    string = re.sub(r\"!\", \" ! \", string)\n",
        "    string = re.sub(r\"\\(\", \" \\( \", string)\n",
        "    string = re.sub(r\"\\)\", \" \\) \", string)\n",
        "    string = re.sub(r\"\\?\", \" \\? \", string)\n",
        "    string = re.sub(r\"\\s{2,}\", \" \", string)\n",
        "    string = string.replace(\"\\\\\",\"\")\n",
        "    return string.strip().lower()"
      ],
      "execution_count": 0,
      "outputs": []
    },
    {
      "cell_type": "code",
      "metadata": {
        "id": "HNJSLnUjePSo",
        "colab_type": "code",
        "colab": {
          "base_uri": "https://localhost:8080/",
          "height": 293
        },
        "outputId": "9a6fd547-89a1-4db8-87b8-bdd89c17a64d"
      },
      "source": [
        "df = pd.read_csv('fdalabel-query-1132.csv')\n",
        "df1 = df[['Most Recent SPL Date (YYYY/MM/DD)','Active Ingredient UNII(s)', 'SET ID']]\n",
        "df1.rename(columns={'Most Recent SPL Date (YYYY/MM/DD)': 'SPL_Date', 'Active Ingredient UNII(s)': 'AIU', 'SET ID':'SET_ID'}, inplace=True)\n",
        "df2 = pd.read_excel('indications_humanrx.xlsx')\n",
        "df1.head()"
      ],
      "execution_count": 83,
      "outputs": [
        {
          "output_type": "stream",
          "text": [
            "/usr/local/lib/python3.6/dist-packages/pandas/core/frame.py:4025: SettingWithCopyWarning: \n",
            "A value is trying to be set on a copy of a slice from a DataFrame\n",
            "\n",
            "See the caveats in the documentation: http://pandas.pydata.org/pandas-docs/stable/indexing.html#indexing-view-versus-copy\n",
            "  return super(DataFrame, self).rename(**kwargs)\n"
          ],
          "name": "stderr"
        },
        {
          "output_type": "execute_result",
          "data": {
            "text/html": [
              "<div>\n",
              "<style scoped>\n",
              "    .dataframe tbody tr th:only-of-type {\n",
              "        vertical-align: middle;\n",
              "    }\n",
              "\n",
              "    .dataframe tbody tr th {\n",
              "        vertical-align: top;\n",
              "    }\n",
              "\n",
              "    .dataframe thead th {\n",
              "        text-align: right;\n",
              "    }\n",
              "</style>\n",
              "<table border=\"1\" class=\"dataframe\">\n",
              "  <thead>\n",
              "    <tr style=\"text-align: right;\">\n",
              "      <th></th>\n",
              "      <th>SPL_Date</th>\n",
              "      <th>AIU</th>\n",
              "      <th>SET_ID</th>\n",
              "    </tr>\n",
              "  </thead>\n",
              "  <tbody>\n",
              "    <tr>\n",
              "      <th>0</th>\n",
              "      <td>20160429</td>\n",
              "      <td>0CD5FD6S2M; 5E8K9I0O4U; 6OZP39ZG8H</td>\n",
              "      <td>1a7e4806-3138-4b7a-b798-a99e163ee846</td>\n",
              "    </tr>\n",
              "    <tr>\n",
              "      <th>1</th>\n",
              "      <td>20170531</td>\n",
              "      <td>382L14738L</td>\n",
              "      <td>0ea37235-35fd-410d-b8c4-40ba15fe1294</td>\n",
              "    </tr>\n",
              "    <tr>\n",
              "      <th>2</th>\n",
              "      <td>20170803</td>\n",
              "      <td>04079A1RDZ; ZS7284E0ZP</td>\n",
              "      <td>7ea701ce-e7d3-4349-a9c2-642a501d45c8</td>\n",
              "    </tr>\n",
              "    <tr>\n",
              "      <th>3</th>\n",
              "      <td>20181121</td>\n",
              "      <td>3S252O2Z4X</td>\n",
              "      <td>203459a5-9769-44a0-8396-43d110207ba9</td>\n",
              "    </tr>\n",
              "    <tr>\n",
              "      <th>4</th>\n",
              "      <td>20190227</td>\n",
              "      <td>54Q18076QB; 839I73S42A</td>\n",
              "      <td>21335fe4-d395-4501-ac2a-2f20d7520da9</td>\n",
              "    </tr>\n",
              "  </tbody>\n",
              "</table>\n",
              "</div>"
            ],
            "text/plain": [
              "   SPL_Date  ...                                SET_ID\n",
              "0  20160429  ...  1a7e4806-3138-4b7a-b798-a99e163ee846\n",
              "1  20170531  ...  0ea37235-35fd-410d-b8c4-40ba15fe1294\n",
              "2  20170803  ...  7ea701ce-e7d3-4349-a9c2-642a501d45c8\n",
              "3  20181121  ...  203459a5-9769-44a0-8396-43d110207ba9\n",
              "4  20190227  ...  21335fe4-d395-4501-ac2a-2f20d7520da9\n",
              "\n",
              "[5 rows x 3 columns]"
            ]
          },
          "metadata": {
            "tags": []
          },
          "execution_count": 83
        }
      ]
    },
    {
      "cell_type": "code",
      "metadata": {
        "id": "0RkqRlQnftJn",
        "colab_type": "code",
        "colab": {
          "base_uri": "https://localhost:8080/",
          "height": 206
        },
        "outputId": "ec089551-51dd-42bc-9b43-92315130d7a9"
      },
      "source": [
        "df1 = df1.groupby('AIU').first()\n",
        "res_df = pd.merge(df1, df2, on='SET_ID', how='inner')\n",
        "res_df.head()"
      ],
      "execution_count": 87,
      "outputs": [
        {
          "output_type": "execute_result",
          "data": {
            "text/html": [
              "<div>\n",
              "<style scoped>\n",
              "    .dataframe tbody tr th:only-of-type {\n",
              "        vertical-align: middle;\n",
              "    }\n",
              "\n",
              "    .dataframe tbody tr th {\n",
              "        vertical-align: top;\n",
              "    }\n",
              "\n",
              "    .dataframe thead th {\n",
              "        text-align: right;\n",
              "    }\n",
              "</style>\n",
              "<table border=\"1\" class=\"dataframe\">\n",
              "  <thead>\n",
              "    <tr style=\"text-align: right;\">\n",
              "      <th></th>\n",
              "      <th>SPL_Date</th>\n",
              "      <th>SET_ID</th>\n",
              "      <th>CONTENT_XML</th>\n",
              "    </tr>\n",
              "  </thead>\n",
              "  <tbody>\n",
              "    <tr>\n",
              "      <th>0</th>\n",
              "      <td>20180129</td>\n",
              "      <td>ad8678de-ee78-d061-ea5f-d2a6b949b0e5</td>\n",
              "      <td>&lt;section xmlns=\"urn:hl7-org:v3\" ID=\"ID_e17ca14...</td>\n",
              "    </tr>\n",
              "    <tr>\n",
              "      <th>1</th>\n",
              "      <td>20160520</td>\n",
              "      <td>2c272405-837d-007f-e054-00144ff88e88</td>\n",
              "      <td>&lt;section xmlns=\"urn:hl7-org:v3\" ID=\"id_link_2c...</td>\n",
              "    </tr>\n",
              "    <tr>\n",
              "      <th>2</th>\n",
              "      <td>20110601</td>\n",
              "      <td>16a441d8-610e-de3f-c352-9c0fab0b9d3c</td>\n",
              "      <td>&lt;section xmlns=\"urn:hl7-org:v3\" ID=\"ID_8ebcf16...</td>\n",
              "    </tr>\n",
              "    <tr>\n",
              "      <th>3</th>\n",
              "      <td>20110601</td>\n",
              "      <td>7f2a7a7b-d750-623a-74e0-f96b8d41cbb8</td>\n",
              "      <td>&lt;section xmlns=\"urn:hl7-org:v3\" ID=\"ID_a2e7cca...</td>\n",
              "    </tr>\n",
              "    <tr>\n",
              "      <th>4</th>\n",
              "      <td>20110601</td>\n",
              "      <td>a9b53259-8388-76fa-6e83-2b8ca1f5358b</td>\n",
              "      <td>&lt;section xmlns=\"urn:hl7-org:v3\" ID=\"ID_72F7AFF...</td>\n",
              "    </tr>\n",
              "  </tbody>\n",
              "</table>\n",
              "</div>"
            ],
            "text/plain": [
              "   SPL_Date  ...                                        CONTENT_XML\n",
              "0  20180129  ...  <section xmlns=\"urn:hl7-org:v3\" ID=\"ID_e17ca14...\n",
              "1  20160520  ...  <section xmlns=\"urn:hl7-org:v3\" ID=\"id_link_2c...\n",
              "2  20110601  ...  <section xmlns=\"urn:hl7-org:v3\" ID=\"ID_8ebcf16...\n",
              "3  20110601  ...  <section xmlns=\"urn:hl7-org:v3\" ID=\"ID_a2e7cca...\n",
              "4  20110601  ...  <section xmlns=\"urn:hl7-org:v3\" ID=\"ID_72F7AFF...\n",
              "\n",
              "[5 rows x 3 columns]"
            ]
          },
          "metadata": {
            "tags": []
          },
          "execution_count": 87
        }
      ]
    },
    {
      "cell_type": "code",
      "metadata": {
        "id": "8LtJMiN97j5K",
        "colab_type": "code",
        "colab": {
          "base_uri": "https://localhost:8080/",
          "height": 206
        },
        "outputId": "bda18b29-705f-4778-a918-09ca0ebca546"
      },
      "source": [
        "h = html2text.HTML2Text()\n",
        "h.ignore_links = True\n",
        "\n",
        "set_ids, xmls, texts, sentences,  = [], [], [], []\n",
        "for idx, row in res_df.iterrows():\n",
        "  v = str(res_df.loc[idx, 'CONTENT_XML'])\n",
        "  if v:\n",
        "    text = h.handle(v).replace(\"``\", \"\")\n",
        "    subs = sent_tokenize(text)\n",
        "    for t in subs:\n",
        "      if len(t) > 30:\n",
        "        set_ids.append(res_df.loc[idx, 'SET_ID'])\n",
        "        xmls.append(res_df.loc[idx, 'CONTENT_XML'])\n",
        "        texts.append(text)\n",
        "        sentences.append(clean_str(t))\n",
        "final_df = pd.DataFrame()\n",
        "final_df['set_ids'] = set_ids\n",
        "#final_df['xmls'] = xmls\n",
        "#final_df['texts'] = texts\n",
        "final_df['sentences'] = sentences\n",
        "final_df.to_csv('final.csv') \n",
        "final_df.head()"
      ],
      "execution_count": 89,
      "outputs": [
        {
          "output_type": "execute_result",
          "data": {
            "text/html": [
              "<div>\n",
              "<style scoped>\n",
              "    .dataframe tbody tr th:only-of-type {\n",
              "        vertical-align: middle;\n",
              "    }\n",
              "\n",
              "    .dataframe tbody tr th {\n",
              "        vertical-align: top;\n",
              "    }\n",
              "\n",
              "    .dataframe thead th {\n",
              "        text-align: right;\n",
              "    }\n",
              "</style>\n",
              "<table border=\"1\" class=\"dataframe\">\n",
              "  <thead>\n",
              "    <tr style=\"text-align: right;\">\n",
              "      <th></th>\n",
              "      <th>set_ids</th>\n",
              "      <th>sentences</th>\n",
              "    </tr>\n",
              "  </thead>\n",
              "  <tbody>\n",
              "    <tr>\n",
              "      <th>0</th>\n",
              "      <td>ad8678de-ee78-d061-ea5f-d2a6b949b0e5</td>\n",
              "      <td>indications and usage minocycline hydrochlorid...</td>\n",
              "    </tr>\n",
              "    <tr>\n",
              "      <th>1</th>\n",
              "      <td>ad8678de-ee78-d061-ea5f-d2a6b949b0e5</td>\n",
              "      <td>respiratory tract infections caused by mycopla...</td>\n",
              "    </tr>\n",
              "    <tr>\n",
              "      <th>2</th>\n",
              "      <td>ad8678de-ee78-d061-ea5f-d2a6b949b0e5</td>\n",
              "      <td>lymphogranuloma venereum caused by chlamydia t...</td>\n",
              "    </tr>\n",
              "    <tr>\n",
              "      <th>3</th>\n",
              "      <td>ad8678de-ee78-d061-ea5f-d2a6b949b0e5</td>\n",
              "      <td>psittacosis ( ornithosis ) due to chlamydia ps...</td>\n",
              "    </tr>\n",
              "    <tr>\n",
              "      <th>4</th>\n",
              "      <td>ad8678de-ee78-d061-ea5f-d2a6b949b0e5</td>\n",
              "      <td>trachoma caused by chlamydia trachomatis , alt...</td>\n",
              "    </tr>\n",
              "  </tbody>\n",
              "</table>\n",
              "</div>"
            ],
            "text/plain": [
              "                                set_ids                                          sentences\n",
              "0  ad8678de-ee78-d061-ea5f-d2a6b949b0e5  indications and usage minocycline hydrochlorid...\n",
              "1  ad8678de-ee78-d061-ea5f-d2a6b949b0e5  respiratory tract infections caused by mycopla...\n",
              "2  ad8678de-ee78-d061-ea5f-d2a6b949b0e5  lymphogranuloma venereum caused by chlamydia t...\n",
              "3  ad8678de-ee78-d061-ea5f-d2a6b949b0e5  psittacosis ( ornithosis ) due to chlamydia ps...\n",
              "4  ad8678de-ee78-d061-ea5f-d2a6b949b0e5  trachoma caused by chlamydia trachomatis , alt..."
            ]
          },
          "metadata": {
            "tags": []
          },
          "execution_count": 89
        }
      ]
    }
  ]
}