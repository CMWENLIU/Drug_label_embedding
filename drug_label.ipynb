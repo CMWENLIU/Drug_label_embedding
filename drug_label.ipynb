{
  "nbformat": 4,
  "nbformat_minor": 0,
  "metadata": {
    "colab": {
      "name": "drug_label.ipynb",
      "version": "0.3.2",
      "provenance": [],
      "collapsed_sections": [],
      "include_colab_link": true
    },
    "kernelspec": {
      "name": "python3",
      "display_name": "Python 3"
    }
  },
  "cells": [
    {
      "cell_type": "markdown",
      "metadata": {
        "id": "view-in-github",
        "colab_type": "text"
      },
      "source": [
        "<a href=\"https://colab.research.google.com/github/CMWENLIU/Drug_label_embedding/blob/master/drug_label.ipynb\" target=\"_parent\"><img src=\"https://colab.research.google.com/assets/colab-badge.svg\" alt=\"Open In Colab\"/></a>"
      ]
    },
    {
      "cell_type": "code",
      "metadata": {
        "id": "kUU7ibxJcOvn",
        "colab_type": "code",
        "colab": {
          "base_uri": "https://localhost:8080/",
          "height": 106
        },
        "outputId": "fe7f11aa-da49-4e81-8ddc-eeffa893b0a6"
      },
      "source": [
        "!pip3 install --quiet wget\n",
        "!pip install html2text"
      ],
      "execution_count": 12,
      "outputs": [
        {
          "output_type": "stream",
          "text": [
            "Collecting html2text\n",
            "  Downloading https://files.pythonhosted.org/packages/16/20/de2b458ef434713053dd83209a03a5431ebe0527c8e14d9ae7838ff67d8a/html2text-2018.1.9-py3-none-any.whl\n",
            "Installing collected packages: html2text\n",
            "Successfully installed html2text-2018.1.9\n"
          ],
          "name": "stdout"
        }
      ]
    },
    {
      "cell_type": "code",
      "metadata": {
        "id": "4puLll5ccnHR",
        "colab_type": "code",
        "colab": {
          "base_uri": "https://localhost:8080/",
          "height": 52
        },
        "outputId": "0704345f-2dc2-4520-eb7e-0a2794f79628"
      },
      "source": [
        "import os\n",
        "import csv\n",
        "import pandas as pd\n",
        "import re\n",
        "import wget\n",
        "import html2text\n",
        "import nltk\n",
        "nltk.download('punkt')\n",
        "from nltk import sent_tokenize\n",
        "import nltk.data"
      ],
      "execution_count": 61,
      "outputs": [
        {
          "output_type": "stream",
          "text": [
            "[nltk_data] Downloading package punkt to /root/nltk_data...\n",
            "[nltk_data]   Package punkt is already up-to-date!\n"
          ],
          "name": "stdout"
        }
      ]
    },
    {
      "cell_type": "code",
      "metadata": {
        "id": "iVmVd1sFcu9W",
        "colab_type": "code",
        "colab": {
          "base_uri": "https://localhost:8080/",
          "height": 34
        },
        "outputId": "1b2f114f-6a90-4fb2-d449-73ac5719ce02"
      },
      "source": [
        "urls = [\"https://raw.githubusercontent.com/CMWENLIU/Drug_label_embedding/master/fdalabel-query-1132.csv\",\n",
        "       \"https://raw.githubusercontent.com/CMWENLIU/Drug_label_embedding/master/indications_humanrx.xlsx\",\n",
        "       ]\n",
        "[wget.download(u) for u in urls]\n",
        " \n",
        "    \n",
        "  "
      ],
      "execution_count": 14,
      "outputs": [
        {
          "output_type": "execute_result",
          "data": {
            "text/plain": [
              "['fdalabel-query-1132 (1).csv', 'indications_humanrx (1).xlsx']"
            ]
          },
          "metadata": {
            "tags": []
          },
          "execution_count": 14
        }
      ]
    },
    {
      "cell_type": "code",
      "metadata": {
        "id": "LPGEVu8ad2yo",
        "colab_type": "code",
        "colab": {}
      },
      "source": [
        "def clean_str(string):\n",
        "   \n",
        "    string = re.sub(r\"[^A-Za-z0-9(),!?\\'\\`]\", \" \", string)\n",
        "    string = re.sub(r\"\\'s\", \" \\'s\", string)\n",
        "    string = re.sub(r\"\\'ve\", \" \\'ve\", string)\n",
        "    string = re.sub(r\"n\\'t\", \" n\\'t\", string)\n",
        "    string = re.sub(r\"\\'re\", \" \\'re\", string)\n",
        "    string = re.sub(r\"\\'d\", \" \\'d\", string)\n",
        "    string = re.sub(r\"\\'ll\", \" \\'ll\", string)\n",
        "    string = re.sub(r\",\", \" , \", string)\n",
        "    string = re.sub(r\"!\", \" ! \", string)\n",
        "    string = re.sub(r\"\\(\", \" \\( \", string)\n",
        "    string = re.sub(r\"\\)\", \" \\) \", string)\n",
        "    string = re.sub(r\"\\?\", \" \\? \", string)\n",
        "    string = re.sub(r\"\\s{2,}\", \" \", string)\n",
        "    string = string.replace(\"\\\\\",\"\")\n",
        "    return string.strip().lower()"
      ],
      "execution_count": 0,
      "outputs": []
    },
    {
      "cell_type": "code",
      "metadata": {
        "id": "HNJSLnUjePSo",
        "colab_type": "code",
        "colab": {}
      },
      "source": [
        "df = pd.read_csv('fdalabel-query-1132.csv')\n",
        "df1 = df[['Most Recent SPL Date (YYYY/MM/DD)','Active Ingredient UNII(s)', 'SET ID']]\n",
        "df2 = pd.read_excel('indications_humanrx.xlsx')"
      ],
      "execution_count": 0,
      "outputs": []
    },
    {
      "cell_type": "code",
      "metadata": {
        "id": "0RkqRlQnftJn",
        "colab_type": "code",
        "colab": {}
      },
      "source": [
        "#print(df1.shape)\n",
        "#print(df2.shape)\n",
        "tokenizer = nltk.data.load('tokenizers/punkt/english.pickle')\n",
        "df1 = df1.groupby('Active Ingredient UNII(s)').first()\n",
        "df1.to_csv('res.csv')\n",
        "res_df = df1.join(df2.set_index('SET_ID'), on='SET ID')\n",
        "\n",
        "  "
      ],
      "execution_count": 0,
      "outputs": []
    },
    {
      "cell_type": "code",
      "metadata": {
        "id": "8LtJMiN97j5K",
        "colab_type": "code",
        "colab": {
          "base_uri": "https://localhost:8080/",
          "height": 206
        },
        "outputId": "d8581d5a-2427-4d84-fd71-5c7a53a77953"
      },
      "source": [
        "#texts = []\n",
        "h = html2text.HTML2Text()\n",
        "h.ignore_links = True\n",
        "#for v in res_df['CONTENT_XML'].tolist():\n",
        "#  print(h.handle(v))\n",
        "#res_df['CONTENT_XML'] = texts\n",
        "#res_df.to_csv('newres.csv')\n",
        "\n",
        "set_ids, xmls, texts, sentences,  = [], [], [], []\n",
        "for idx, row in res_df.iterrows():\n",
        "  v = str(res_df.loc[idx, 'CONTENT_XML'])\n",
        "  if v:\n",
        "    text = h.handle(v).replace(\"``\", \"\")\n",
        "    subs = sent_tokenize(text)\n",
        "    for t in subs:\n",
        "      if len(t) > 30:\n",
        "        set_ids.append(res_df.loc[idx, 'SET ID'])\n",
        "        xmls.append(res_df.loc[idx, 'CONTENT_XML'])\n",
        "        texts.append(text)\n",
        "        sentences.append(clean_str(t))\n",
        "final_df = pd.DataFrame()\n",
        "final_df['set_ids'] = set_ids\n",
        "#final_df['xmls'] = xmls\n",
        "#final_df['texts'] = texts\n",
        "final_df['sentences'] = sentences\n",
        "final_df.to_csv('final.csv') \n",
        "final_df.head()\n",
        "    \n",
        "\n",
        "\n"
      ],
      "execution_count": 80,
      "outputs": [
        {
          "output_type": "execute_result",
          "data": {
            "text/html": [
              "<div>\n",
              "<style scoped>\n",
              "    .dataframe tbody tr th:only-of-type {\n",
              "        vertical-align: middle;\n",
              "    }\n",
              "\n",
              "    .dataframe tbody tr th {\n",
              "        vertical-align: top;\n",
              "    }\n",
              "\n",
              "    .dataframe thead th {\n",
              "        text-align: right;\n",
              "    }\n",
              "</style>\n",
              "<table border=\"1\" class=\"dataframe\">\n",
              "  <thead>\n",
              "    <tr style=\"text-align: right;\">\n",
              "      <th></th>\n",
              "      <th>set_ids</th>\n",
              "      <th>sentences</th>\n",
              "    </tr>\n",
              "  </thead>\n",
              "  <tbody>\n",
              "    <tr>\n",
              "      <th>0</th>\n",
              "      <td>ad8678de-ee78-d061-ea5f-d2a6b949b0e5</td>\n",
              "      <td>indications and usage minocycline hydrochlorid...</td>\n",
              "    </tr>\n",
              "    <tr>\n",
              "      <th>1</th>\n",
              "      <td>ad8678de-ee78-d061-ea5f-d2a6b949b0e5</td>\n",
              "      <td>respiratory tract infections caused by mycopla...</td>\n",
              "    </tr>\n",
              "    <tr>\n",
              "      <th>2</th>\n",
              "      <td>ad8678de-ee78-d061-ea5f-d2a6b949b0e5</td>\n",
              "      <td>lymphogranuloma venereum caused by chlamydia t...</td>\n",
              "    </tr>\n",
              "    <tr>\n",
              "      <th>3</th>\n",
              "      <td>ad8678de-ee78-d061-ea5f-d2a6b949b0e5</td>\n",
              "      <td>psittacosis ( ornithosis ) due to chlamydia ps...</td>\n",
              "    </tr>\n",
              "    <tr>\n",
              "      <th>4</th>\n",
              "      <td>ad8678de-ee78-d061-ea5f-d2a6b949b0e5</td>\n",
              "      <td>trachoma caused by chlamydia trachomatis , alt...</td>\n",
              "    </tr>\n",
              "  </tbody>\n",
              "</table>\n",
              "</div>"
            ],
            "text/plain": [
              "                                set_ids                                          sentences\n",
              "0  ad8678de-ee78-d061-ea5f-d2a6b949b0e5  indications and usage minocycline hydrochlorid...\n",
              "1  ad8678de-ee78-d061-ea5f-d2a6b949b0e5  respiratory tract infections caused by mycopla...\n",
              "2  ad8678de-ee78-d061-ea5f-d2a6b949b0e5  lymphogranuloma venereum caused by chlamydia t...\n",
              "3  ad8678de-ee78-d061-ea5f-d2a6b949b0e5  psittacosis ( ornithosis ) due to chlamydia ps...\n",
              "4  ad8678de-ee78-d061-ea5f-d2a6b949b0e5  trachoma caused by chlamydia trachomatis , alt..."
            ]
          },
          "metadata": {
            "tags": []
          },
          "execution_count": 80
        }
      ]
    },
    {
      "cell_type": "code",
      "metadata": {
        "id": "Fic6IOKIim3e",
        "colab_type": "code",
        "colab": {}
      },
      "source": [
        "com_df = df1.set_index('SET ID').join(df2.set_index('SET_ID'))"
      ],
      "execution_count": 0,
      "outputs": []
    },
    {
      "cell_type": "code",
      "metadata": {
        "id": "uxNMzv3yi98c",
        "colab_type": "code",
        "colab": {
          "base_uri": "https://localhost:8080/",
          "height": 310
        },
        "outputId": "c28caac8-89d9-4513-e8fb-f20644aff96c"
      },
      "source": [
        "print(com_df.shape)\n",
        "com_df.head()"
      ],
      "execution_count": 19,
      "outputs": [
        {
          "output_type": "stream",
          "text": [
            "(40580, 3)\n"
          ],
          "name": "stdout"
        },
        {
          "output_type": "execute_result",
          "data": {
            "text/html": [
              "<div>\n",
              "<style scoped>\n",
              "    .dataframe tbody tr th:only-of-type {\n",
              "        vertical-align: middle;\n",
              "    }\n",
              "\n",
              "    .dataframe tbody tr th {\n",
              "        vertical-align: top;\n",
              "    }\n",
              "\n",
              "    .dataframe thead th {\n",
              "        text-align: right;\n",
              "    }\n",
              "</style>\n",
              "<table border=\"1\" class=\"dataframe\">\n",
              "  <thead>\n",
              "    <tr style=\"text-align: right;\">\n",
              "      <th></th>\n",
              "      <th>Most Recent SPL Date (YYYY/MM/DD)</th>\n",
              "      <th>Active Ingredient UNII(s)</th>\n",
              "      <th>CONTENT_XML</th>\n",
              "    </tr>\n",
              "  </thead>\n",
              "  <tbody>\n",
              "    <tr>\n",
              "      <th>00011703-bc55-4c0c-858c-149dc674bc3c</th>\n",
              "      <td>20171230</td>\n",
              "      <td>A4P49JAZ9H</td>\n",
              "      <td>&lt;section xmlns=\"urn:hl7-org:v3\" ID=\"s9\" xmlns:...</td>\n",
              "    </tr>\n",
              "    <tr>\n",
              "      <th>000155a8-709c-44e5-a75f-cd890f3a7caf</th>\n",
              "      <td>20190124</td>\n",
              "      <td>57Y76R9ATQ</td>\n",
              "      <td>&lt;section xmlns=\"urn:hl7-org:v3\" ID=\"ID_2f9d5bc...</td>\n",
              "    </tr>\n",
              "    <tr>\n",
              "      <th>0002ad27-779d-42ab-83b5-bc65453412a1</th>\n",
              "      <td>20181218</td>\n",
              "      <td>BSB9VJ5TUT</td>\n",
              "      <td>&lt;section xmlns=\"urn:hl7-org:v3\" xmlns:xsi=\"htt...</td>\n",
              "    </tr>\n",
              "    <tr>\n",
              "      <th>0002eded-a283-4590-a78c-b6ff2027e684</th>\n",
              "      <td>20160809</td>\n",
              "      <td>6CW7F3G59X</td>\n",
              "      <td>&lt;section xmlns=\"urn:hl7-org:v3\" ID=\"LINK_27310...</td>\n",
              "    </tr>\n",
              "    <tr>\n",
              "      <th>0003458f-352a-46fa-9d99-230daa76ae29</th>\n",
              "      <td>20180223</td>\n",
              "      <td>6KY687524K</td>\n",
              "      <td>&lt;section xmlns=\"urn:hl7-org:v3\" ID=\"INDICATION...</td>\n",
              "    </tr>\n",
              "  </tbody>\n",
              "</table>\n",
              "</div>"
            ],
            "text/plain": [
              "                                      Most Recent SPL Date (YYYY/MM/DD)  ...                                        CONTENT_XML\n",
              "00011703-bc55-4c0c-858c-149dc674bc3c                           20171230  ...  <section xmlns=\"urn:hl7-org:v3\" ID=\"s9\" xmlns:...\n",
              "000155a8-709c-44e5-a75f-cd890f3a7caf                           20190124  ...  <section xmlns=\"urn:hl7-org:v3\" ID=\"ID_2f9d5bc...\n",
              "0002ad27-779d-42ab-83b5-bc65453412a1                           20181218  ...  <section xmlns=\"urn:hl7-org:v3\" xmlns:xsi=\"htt...\n",
              "0002eded-a283-4590-a78c-b6ff2027e684                           20160809  ...  <section xmlns=\"urn:hl7-org:v3\" ID=\"LINK_27310...\n",
              "0003458f-352a-46fa-9d99-230daa76ae29                           20180223  ...  <section xmlns=\"urn:hl7-org:v3\" ID=\"INDICATION...\n",
              "\n",
              "[5 rows x 3 columns]"
            ]
          },
          "metadata": {
            "tags": []
          },
          "execution_count": 19
        }
      ]
    }
  ]
}