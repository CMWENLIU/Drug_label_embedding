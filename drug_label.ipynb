{
  "nbformat": 4,
  "nbformat_minor": 0,
  "metadata": {
    "colab": {
      "name": "drug_label.ipynb",
      "version": "0.3.2",
      "provenance": [],
      "collapsed_sections": [],
      "include_colab_link": true
    },
    "kernelspec": {
      "name": "python3",
      "display_name": "Python 3"
    }
  },
  "cells": [
    {
      "cell_type": "markdown",
      "metadata": {
        "id": "view-in-github",
        "colab_type": "text"
      },
      "source": [
        "<a href=\"https://colab.research.google.com/github/CMWENLIU/Drug_label_embedding/blob/master/drug_label.ipynb\" target=\"_parent\"><img src=\"https://colab.research.google.com/assets/colab-badge.svg\" alt=\"Open In Colab\"/></a>"
      ]
    },
    {
      "cell_type": "code",
      "metadata": {
        "id": "kUU7ibxJcOvn",
        "colab_type": "code",
        "colab": {
          "base_uri": "https://localhost:8080/",
          "height": 34
        },
        "outputId": "c365841c-c9fa-436d-81ba-62643fd19a4e"
      },
      "source": [
        "!pip3 install --quiet wget"
      ],
      "execution_count": 1,
      "outputs": [
        {
          "output_type": "stream",
          "text": [
            "  Building wheel for wget (setup.py) ... \u001b[?25l\u001b[?25hdone\n"
          ],
          "name": "stdout"
        }
      ]
    },
    {
      "cell_type": "code",
      "metadata": {
        "id": "4puLll5ccnHR",
        "colab_type": "code",
        "colab": {}
      },
      "source": [
        "import os\n",
        "import pandas as pd\n",
        "import re\n",
        "import wget"
      ],
      "execution_count": 0,
      "outputs": []
    },
    {
      "cell_type": "code",
      "metadata": {
        "id": "iVmVd1sFcu9W",
        "colab_type": "code",
        "colab": {
          "base_uri": "https://localhost:8080/",
          "height": 34
        },
        "outputId": "1f9539b9-9705-4409-e1d6-2cfd35d2c5fa"
      },
      "source": [
        "urls = [\"https://raw.githubusercontent.com/CMWENLIU/Drug_label_embedding/master/fdalabel-query-1132.csv\",\n",
        "       \"https://raw.githubusercontent.com/CMWENLIU/Drug_label_embedding/master/indications_humanrx.xlsx\",\n",
        "       ]\n",
        "[wget.download(u) for u in urls]"
      ],
      "execution_count": 3,
      "outputs": [
        {
          "output_type": "execute_result",
          "data": {
            "text/plain": [
              "['fdalabel-query-1132.csv', 'indications_humanrx.xlsx']"
            ]
          },
          "metadata": {
            "tags": []
          },
          "execution_count": 3
        }
      ]
    },
    {
      "cell_type": "code",
      "metadata": {
        "id": "HNJSLnUjePSo",
        "colab_type": "code",
        "colab": {}
      },
      "source": [
        "df = pd.read_csv('fdalabel-query-1132.csv')\n",
        "df1 = df[['Most Recent SPL Date (YYYY/MM/DD)','Active Ingredient UNII(s)', 'SET ID']]\n",
        "df2 = pd.read_excel('indications_humanrx.xlsx')"
      ],
      "execution_count": 0,
      "outputs": []
    },
    {
      "cell_type": "code",
      "metadata": {
        "id": "0RkqRlQnftJn",
        "colab_type": "code",
        "colab": {
          "base_uri": "https://localhost:8080/",
          "height": 330
        },
        "outputId": "3040ed04-1fe3-48aa-ec27-056da082ab44"
      },
      "source": [
        "#print(df1.shape)\n",
        "#print(df2.shape)\n",
        "df1 = df1.sort_values(['Active Ingredient UNII(s)', 'Most Recent SPL Date (YYYY/MM/DD)']).groupby('Active Ingredient UNII(s)')\n",
        "df1.to_csv('res.csv')"
      ],
      "execution_count": 63,
      "outputs": [
        {
          "output_type": "error",
          "ename": "AttributeError",
          "evalue": "ignored",
          "traceback": [
            "\u001b[0;31m---------------------------------------------------------------------------\u001b[0m",
            "\u001b[0;31mAttributeError\u001b[0m                            Traceback (most recent call last)",
            "\u001b[0;32m<ipython-input-63-b636c6181512>\u001b[0m in \u001b[0;36m<module>\u001b[0;34m()\u001b[0m\n\u001b[1;32m      1\u001b[0m \u001b[0mdf1\u001b[0m \u001b[0;34m=\u001b[0m \u001b[0mdf1\u001b[0m\u001b[0;34m.\u001b[0m\u001b[0msort_values\u001b[0m\u001b[0;34m(\u001b[0m\u001b[0;34m[\u001b[0m\u001b[0;34m'Active Ingredient UNII(s)'\u001b[0m\u001b[0;34m,\u001b[0m \u001b[0;34m'Most Recent SPL Date (YYYY/MM/DD)'\u001b[0m\u001b[0;34m]\u001b[0m\u001b[0;34m)\u001b[0m\u001b[0;34m.\u001b[0m\u001b[0mgroupby\u001b[0m\u001b[0;34m(\u001b[0m\u001b[0;34m'Active Ingredient UNII(s)'\u001b[0m\u001b[0;34m)\u001b[0m\u001b[0;34m\u001b[0m\u001b[0;34m\u001b[0m\u001b[0m\n\u001b[0;32m----> 2\u001b[0;31m \u001b[0mdf1\u001b[0m\u001b[0;34m.\u001b[0m\u001b[0mto_csv\u001b[0m\u001b[0;34m(\u001b[0m\u001b[0;34m'res.csv'\u001b[0m\u001b[0;34m)\u001b[0m\u001b[0;34m\u001b[0m\u001b[0;34m\u001b[0m\u001b[0m\n\u001b[0m",
            "\u001b[0;32m/usr/local/lib/python3.6/dist-packages/pandas/core/groupby/groupby.py\u001b[0m in \u001b[0;36m__getattr__\u001b[0;34m(self, attr)\u001b[0m\n\u001b[1;32m    531\u001b[0m             \u001b[0;32mreturn\u001b[0m \u001b[0mself\u001b[0m\u001b[0;34m[\u001b[0m\u001b[0mattr\u001b[0m\u001b[0;34m]\u001b[0m\u001b[0;34m\u001b[0m\u001b[0;34m\u001b[0m\u001b[0m\n\u001b[1;32m    532\u001b[0m         \u001b[0;32mif\u001b[0m \u001b[0mhasattr\u001b[0m\u001b[0;34m(\u001b[0m\u001b[0mself\u001b[0m\u001b[0;34m.\u001b[0m\u001b[0mobj\u001b[0m\u001b[0;34m,\u001b[0m \u001b[0mattr\u001b[0m\u001b[0;34m)\u001b[0m\u001b[0;34m:\u001b[0m\u001b[0;34m\u001b[0m\u001b[0;34m\u001b[0m\u001b[0m\n\u001b[0;32m--> 533\u001b[0;31m             \u001b[0;32mreturn\u001b[0m \u001b[0mself\u001b[0m\u001b[0;34m.\u001b[0m\u001b[0m_make_wrapper\u001b[0m\u001b[0;34m(\u001b[0m\u001b[0mattr\u001b[0m\u001b[0;34m)\u001b[0m\u001b[0;34m\u001b[0m\u001b[0;34m\u001b[0m\u001b[0m\n\u001b[0m\u001b[1;32m    534\u001b[0m \u001b[0;34m\u001b[0m\u001b[0m\n\u001b[1;32m    535\u001b[0m         raise AttributeError(\"%r object has no attribute %r\" %\n",
            "\u001b[0;32m/usr/local/lib/python3.6/dist-packages/pandas/core/groupby/groupby.py\u001b[0m in \u001b[0;36m_make_wrapper\u001b[0;34m(self, name)\u001b[0m\n\u001b[1;32m    568\u001b[0m                    \"using the 'apply' method\".format(kind, name,\n\u001b[1;32m    569\u001b[0m                                                      type(self).__name__))\n\u001b[0;32m--> 570\u001b[0;31m             \u001b[0;32mraise\u001b[0m \u001b[0mAttributeError\u001b[0m\u001b[0;34m(\u001b[0m\u001b[0mmsg\u001b[0m\u001b[0;34m)\u001b[0m\u001b[0;34m\u001b[0m\u001b[0;34m\u001b[0m\u001b[0m\n\u001b[0m\u001b[1;32m    571\u001b[0m \u001b[0;34m\u001b[0m\u001b[0m\n\u001b[1;32m    572\u001b[0m         \u001b[0mself\u001b[0m\u001b[0;34m.\u001b[0m\u001b[0m_set_group_selection\u001b[0m\u001b[0;34m(\u001b[0m\u001b[0;34m)\u001b[0m\u001b[0;34m\u001b[0m\u001b[0;34m\u001b[0m\u001b[0m\n",
            "\u001b[0;31mAttributeError\u001b[0m: Cannot access callable attribute 'to_csv' of 'DataFrameGroupBy' objects, try using the 'apply' method"
          ]
        }
      ]
    },
    {
      "cell_type": "code",
      "metadata": {
        "id": "Fic6IOKIim3e",
        "colab_type": "code",
        "colab": {}
      },
      "source": [
        "com_df = df1.set_index('SET ID').join(df2.set_index('SET_ID'))"
      ],
      "execution_count": 0,
      "outputs": []
    },
    {
      "cell_type": "code",
      "metadata": {
        "id": "uxNMzv3yi98c",
        "colab_type": "code",
        "colab": {
          "base_uri": "https://localhost:8080/",
          "height": 224
        },
        "outputId": "c28caac8-89d9-4513-e8fb-f20644aff96c"
      },
      "source": [
        "print(com_df.shape)\n",
        "com_df.head()"
      ],
      "execution_count": 19,
      "outputs": [
        {
          "output_type": "stream",
          "text": [
            "(40580, 3)\n"
          ],
          "name": "stdout"
        },
        {
          "output_type": "execute_result",
          "data": {
            "text/html": [
              "<div>\n",
              "<style scoped>\n",
              "    .dataframe tbody tr th:only-of-type {\n",
              "        vertical-align: middle;\n",
              "    }\n",
              "\n",
              "    .dataframe tbody tr th {\n",
              "        vertical-align: top;\n",
              "    }\n",
              "\n",
              "    .dataframe thead th {\n",
              "        text-align: right;\n",
              "    }\n",
              "</style>\n",
              "<table border=\"1\" class=\"dataframe\">\n",
              "  <thead>\n",
              "    <tr style=\"text-align: right;\">\n",
              "      <th></th>\n",
              "      <th>Most Recent SPL Date (YYYY/MM/DD)</th>\n",
              "      <th>Active Ingredient UNII(s)</th>\n",
              "      <th>CONTENT_XML</th>\n",
              "    </tr>\n",
              "  </thead>\n",
              "  <tbody>\n",
              "    <tr>\n",
              "      <th>00011703-bc55-4c0c-858c-149dc674bc3c</th>\n",
              "      <td>20171230</td>\n",
              "      <td>A4P49JAZ9H</td>\n",
              "      <td>&lt;section xmlns=\"urn:hl7-org:v3\" ID=\"s9\" xmlns:...</td>\n",
              "    </tr>\n",
              "    <tr>\n",
              "      <th>000155a8-709c-44e5-a75f-cd890f3a7caf</th>\n",
              "      <td>20190124</td>\n",
              "      <td>57Y76R9ATQ</td>\n",
              "      <td>&lt;section xmlns=\"urn:hl7-org:v3\" ID=\"ID_2f9d5bc...</td>\n",
              "    </tr>\n",
              "    <tr>\n",
              "      <th>0002ad27-779d-42ab-83b5-bc65453412a1</th>\n",
              "      <td>20181218</td>\n",
              "      <td>BSB9VJ5TUT</td>\n",
              "      <td>&lt;section xmlns=\"urn:hl7-org:v3\" xmlns:xsi=\"htt...</td>\n",
              "    </tr>\n",
              "    <tr>\n",
              "      <th>0002eded-a283-4590-a78c-b6ff2027e684</th>\n",
              "      <td>20160809</td>\n",
              "      <td>6CW7F3G59X</td>\n",
              "      <td>&lt;section xmlns=\"urn:hl7-org:v3\" ID=\"LINK_27310...</td>\n",
              "    </tr>\n",
              "    <tr>\n",
              "      <th>0003458f-352a-46fa-9d99-230daa76ae29</th>\n",
              "      <td>20180223</td>\n",
              "      <td>6KY687524K</td>\n",
              "      <td>&lt;section xmlns=\"urn:hl7-org:v3\" ID=\"INDICATION...</td>\n",
              "    </tr>\n",
              "  </tbody>\n",
              "</table>\n",
              "</div>"
            ],
            "text/plain": [
              "                                      Most Recent SPL Date (YYYY/MM/DD)  ...                                        CONTENT_XML\n",
              "00011703-bc55-4c0c-858c-149dc674bc3c                           20171230  ...  <section xmlns=\"urn:hl7-org:v3\" ID=\"s9\" xmlns:...\n",
              "000155a8-709c-44e5-a75f-cd890f3a7caf                           20190124  ...  <section xmlns=\"urn:hl7-org:v3\" ID=\"ID_2f9d5bc...\n",
              "0002ad27-779d-42ab-83b5-bc65453412a1                           20181218  ...  <section xmlns=\"urn:hl7-org:v3\" xmlns:xsi=\"htt...\n",
              "0002eded-a283-4590-a78c-b6ff2027e684                           20160809  ...  <section xmlns=\"urn:hl7-org:v3\" ID=\"LINK_27310...\n",
              "0003458f-352a-46fa-9d99-230daa76ae29                           20180223  ...  <section xmlns=\"urn:hl7-org:v3\" ID=\"INDICATION...\n",
              "\n",
              "[5 rows x 3 columns]"
            ]
          },
          "metadata": {
            "tags": []
          },
          "execution_count": 19
        }
      ]
    }
  ]
}